{
 "nbformat": 4,
 "nbformat_minor": 2,
 "metadata": {
  "language_info": {
   "name": "python",
   "codemirror_mode": {
    "name": "ipython",
    "version": 3
   },
   "version": "3.7.3"
  },
  "orig_nbformat": 2,
  "file_extension": ".py",
  "mimetype": "text/x-python",
  "name": "python",
  "npconvert_exporter": "python",
  "pygments_lexer": "ipython3",
  "version": 3
 },
 "cells": [
  {
   "cell_type": "code",
   "execution_count": 6,
   "metadata": {},
   "outputs": [
    {
     "name": "stdout",
     "output_type": "stream",
     "text": "AI共學社群\n01 數值與變數\n02 資料型態與字串\n03 串列\n04 判斷式\n"
    }
   ],
   "source": [
    "import xml.dom.minidom\n",
    "\n",
    "# 存取檔案\n",
    "doc = xml.dom.minidom.parse(\"/Users/t1063/OneDrive/Desktop/1st-PyCrawlerMarthon/1st-PyCrawlerMarathon/D3/sample.xml\")\n",
    "\n",
    "# 存取我們的資訊\n",
    "print(doc.getElementsByTagName(\"Title\")[0].firstChild.nodeValue)\n",
    "\n",
    "# 用迴圈存取我們的資訊\n",
    "chapters = doc.getElementsByTagName(\"Chapter\")\n",
    "for chapter in chapters:\n",
    "    print (chapter.getAttribute('name'), chapter.firstChild.nodeValue)"
   ]
  },
  {
   "cell_type": "code",
   "execution_count": 2,
   "metadata": {},
   "outputs": [
    {
     "name": "stdout",
     "output_type": "stream",
     "text": "AI共學社群\n01 數值與變數\n02 資料型態與字串\n03 串列\n04 判斷式\n"
    }
   ],
   "source": [
    "import xml.etree.ElementTree as ET \n",
    "\n",
    "# 存取檔案\n",
    "tree = ET.parse('/Users/t1063/OneDrive/Desktop/1st-PyCrawlerMarthon/1st-PyCrawlerMarathon/D3/sample.xml') \n",
    "root = tree.getroot()\n",
    "\n",
    "# 存取我們的資訊\n",
    "print(root[0].text)\n",
    "\n",
    "# 用迴圈存取我們的資訊\n",
    "chapters = root[2]\n",
    "for chapter in chapters:\n",
    "    print (chapter.attrib['name'], chapter.text)"
   ]
  },
  {
   "cell_type": "code",
   "execution_count": 7,
   "metadata": {},
   "outputs": [
    {
     "name": "stdout",
     "output_type": "stream",
     "text": "AI共學社群\n01 數值與變數\n02 資料型態與字串\n03 串列\n04 判斷式\n"
    }
   ],
   "source": [
    "import xmltodict\n",
    "\n",
    "# 存取檔案\n",
    "\n",
    "with open('/Users/t1063/OneDrive/Desktop/1st-PyCrawlerMarthon/1st-PyCrawlerMarathon/D3/sample.xml', encoding='utf-8') as fd:\n",
    "    doc = dict(xmltodict.parse(fd.read()))\n",
    "\n",
    "# 存取我們的資訊\n",
    "print(doc['CUPOY']['Title'])\n",
    "\n",
    "# 用迴圈存取我們的資訊\n",
    "chapters = doc['CUPOY']['Chapters']['Chapter']\n",
    "for chapter in chapters:\n",
    "    print (chapter['@name'], chapter['#text'])"
   ]
  },
  {
   "cell_type": "code",
   "execution_count": null,
   "metadata": {},
   "outputs": [],
   "source": []
  }
 ]
}