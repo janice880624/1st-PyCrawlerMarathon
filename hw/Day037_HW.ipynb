{
  "nbformat": 4,
  "nbformat_minor": 0,
  "metadata": {
    "colab": {
      "name": "Day037_HW.ipynb",
      "provenance": [],
      "collapsed_sections": []
    },
    "kernelspec": {
      "name": "python3",
      "display_name": "Python 3"
    }
  },
  "cells": [
    {
      "cell_type": "code",
      "metadata": {
        "id": "zUicrPlwZka9",
        "colab_type": "code",
        "colab": {}
      },
      "source": [
        "# 每日股票收盤\n",
        "# 每隔1小時爬取氣溫\n",
        "# 每隔1小時爬取雨量"
      ],
      "execution_count": 0,
      "outputs": []
    }
  ]
}