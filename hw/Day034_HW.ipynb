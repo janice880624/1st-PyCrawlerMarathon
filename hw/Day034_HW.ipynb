{
  "nbformat": 4,
  "nbformat_minor": 0,
  "metadata": {
    "colab": {
      "name": "Day034_HW.ipynb",
      "provenance": []
    },
    "kernelspec": {
      "name": "python3",
      "display_name": "Python 3"
    }
  },
  "cells": [
    {
      "cell_type": "code",
      "metadata": {
        "id": "JSsNJ1RNVOT0",
        "colab_type": "code",
        "colab": {}
      },
      "source": [
        "from bs4 import BeautifulSoup\n",
        "import requests\n",
        "import random"
      ],
      "execution_count": 0,
      "outputs": []
    },
    {
      "cell_type": "code",
      "metadata": {
        "id": "BWRmUnLEVUnC",
        "colab_type": "code",
        "colab": {}
      },
      "source": [
        "proxy_ips = []\n",
        "res = requests.get('https://free-proxy-list.net/')\n",
        "soup = BeautifulSoup(res.text, 'lxml')"
      ],
      "execution_count": 0,
      "outputs": []
    },
    {
      "cell_type": "code",
      "metadata": {
        "id": "qxb95_aYVire",
        "colab_type": "code",
        "colab": {}
      },
      "source": [
        "proxylisttable = soup.find('table', id='proxylisttable')\n",
        "tbody = proxylisttable.find('tbody')\n",
        "for tr in tbody.find_all('tr'):\n",
        "    proxy_ips.append(tr.find_all('td')[0].text + ':' + tr.find_all('td')[1].text)"
      ],
      "execution_count": 0,
      "outputs": []
    },
    {
      "cell_type": "code",
      "metadata": {
        "id": "bFVx3a-gVm_9",
        "colab_type": "code",
        "colab": {
          "base_uri": "https://localhost:8080/",
          "height": 100
        },
        "outputId": "490eba9c-695c-4c9f-d602-85c8d86198aa"
      },
      "source": [
        "for ip in proxy_ips[:5]:\n",
        "    print(ip)"
      ],
      "execution_count": 5,
      "outputs": [
        {
          "output_type": "stream",
          "text": [
            "94.130.125.216:1080\n",
            "124.81.67.113:57997\n",
            "36.89.180.25:54682\n",
            "118.175.93.103:51750\n",
            "177.54.224.203:57871\n"
          ],
          "name": "stdout"
        }
      ]
    },
    {
      "cell_type": "code",
      "metadata": {
        "id": "66IFkFZkVo62",
        "colab_type": "code",
        "colab": {
          "base_uri": "https://localhost:8080/",
          "height": 371
        },
        "outputId": "3e7e84bf-4dab-4b56-c87b-3eefd56982e6"
      },
      "source": [
        "for i in range(10):\n",
        "    ip = random.choice(proxy_ips)\n",
        "    print('Use', ip)\n",
        "    try:\n",
        "        resp = requests.get('http://ip.filefab.com/index.php',\n",
        "                        proxies={'http': ip, 'https': ip}, timeout=10)\n",
        "        soup = BeautifulSoup(resp.text, 'html5lib')\n",
        "        print(soup.find('h1', id='ipd').text.strip())\n",
        "    except Exception as e:\n",
        "        print('Fail:', e)"
      ],
      "execution_count": 6,
      "outputs": [
        {
          "output_type": "stream",
          "text": [
            "Use 165.227.39.167:8080\n",
            "Your IP address: 165.227.39.167\n",
            "Use 217.219.179.60:5220\n",
            "Fail: HTTPConnectionPool(host='217.219.179.60', port=5220): Max retries exceeded with url: http://ip.filefab.com/index.php (Caused by ConnectTimeoutError(<urllib3.connection.HTTPConnection object at 0x7f2416bc8a58>, 'Connection to 217.219.179.60 timed out. (connect timeout=10)'))\n",
            "Use 103.22.248.59:61661\n",
            "Fail: HTTPConnectionPool(host='103.22.248.59', port=61661): Max retries exceeded with url: http://ip.filefab.com/index.php (Caused by ConnectTimeoutError(<urllib3.connection.HTTPConnection object at 0x7f2416b51208>, 'Connection to 103.22.248.59 timed out. (connect timeout=10)'))\n",
            "Use 94.180.249.187:38051\n",
            "Fail: HTTPConnectionPool(host='94.180.249.187', port=38051): Max retries exceeded with url: http://ip.filefab.com/index.php (Caused by ConnectTimeoutError(<urllib3.connection.HTTPConnection object at 0x7f2416b51438>, 'Connection to 94.180.249.187 timed out. (connect timeout=10)'))\n",
            "Use 175.41.44.43:52581\n",
            "Fail: HTTPConnectionPool(host='175.41.44.43', port=52581): Max retries exceeded with url: http://ip.filefab.com/index.php (Caused by ConnectTimeoutError(<urllib3.connection.HTTPConnection object at 0x7f2416b51ba8>, 'Connection to 175.41.44.43 timed out. (connect timeout=10)'))\n",
            "Use 212.142.226.229:39995\n",
            "Fail: HTTPConnectionPool(host='212.142.226.229', port=39995): Max retries exceeded with url: http://ip.filefab.com/index.php (Caused by ConnectTimeoutError(<urllib3.connection.HTTPConnection object at 0x7f2416b5b1d0>, 'Connection to 212.142.226.229 timed out. (connect timeout=10)'))\n",
            "Use 36.89.151.26:59760\n",
            "Fail: HTTPConnectionPool(host='36.89.151.26', port=59760): Max retries exceeded with url: http://ip.filefab.com/index.php (Caused by ConnectTimeoutError(<urllib3.connection.HTTPConnection object at 0x7f2416b5b940>, 'Connection to 36.89.151.26 timed out. (connect timeout=10)'))\n",
            "Use 92.247.97.159:41258\n",
            "Your IP address: 92.247.97.159\n",
            "Use 86.57.177.16:3128\n",
            "Fail: HTTPConnectionPool(host='86.57.177.16', port=3128): Max retries exceeded with url: http://ip.filefab.com/index.php (Caused by ProxyError('Cannot connect to proxy.', NewConnectionError('<urllib3.connection.HTTPConnection object at 0x7f2416b7a748>: Failed to establish a new connection: [Errno 111] Connection refused',)))\n",
            "Use 118.174.232.234:44618\n",
            "Fail: HTTPConnectionPool(host='118.174.232.234', port=44618): Max retries exceeded with url: http://ip.filefab.com/index.php (Caused by ConnectTimeoutError(<urllib3.connection.HTTPConnection object at 0x7f2416b7aeb8>, 'Connection to 118.174.232.234 timed out. (connect timeout=10)'))\n"
          ],
          "name": "stdout"
        }
      ]
    },
    {
      "cell_type": "code",
      "metadata": {
        "id": "WKmFJjxPVrar",
        "colab_type": "code",
        "colab": {}
      },
      "source": [
        ""
      ],
      "execution_count": 0,
      "outputs": []
    }
  ]
}