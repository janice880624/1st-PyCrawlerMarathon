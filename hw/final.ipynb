{
 "nbformat": 4,
 "nbformat_minor": 2,
 "metadata": {
  "language_info": {
   "name": "python",
   "codemirror_mode": {
    "name": "ipython",
    "version": 3
   },
   "version": "3.6.5-final"
  },
  "orig_nbformat": 2,
  "file_extension": ".py",
  "mimetype": "text/x-python",
  "name": "python",
  "npconvert_exporter": "python",
  "pygments_lexer": "ipython3",
  "version": 3,
  "kernelspec": {
   "name": "python36564bit3834bea6c78e49f6ab837f3a72fca529",
   "display_name": "Python 3.6.5 64-bit"
  }
 },
 "cells": [
  {
   "cell_type": "code",
   "execution_count": 11,
   "metadata": {},
   "outputs": [
    {
     "name": "stdout",
     "output_type": "stream",
     "text": "<!DOCTYPE html>\n<html>\n\t<head>\n\t\t<meta charset=\"utf-8\">\n\t\t\n\n<meta name=\"viewport\" content=\"width=device-width, initial-scale=1\">\n\n<title>看板 movie 文章列表 - 批踢踢實業坊</title>\n\n<link rel=\"stylesheet\" type=\"text/css\" href=\"//images.ptt.cc/bbs/v2.27/bbs-common.css\">\n<link rel=\"stylesheet\" type=\"text/css\" href=\"//images.ptt.cc/bbs/v2.27/bbs-base.css\" media=\"screen\">\n<link rel=\"stylesheet\" type=\"text/css\" href=\"//images.ptt.cc/bbs/v2.27/bbs-custom.css\">\n<link rel=\"stylesheet\" type=\"text/css\" href=\"//images.ptt.cc/bbs/v2.27/pushstream.css\" media=\"screen\">\n<link rel=\"stylesheet\" type=\"text/css\" href=\"//images.ptt.cc/bbs/v2.27/bbs-print.css\" media=\"print\">\n\n\n\n\n\t</head>\n    <body>\n\t\t\n<div id=\"topbar-container\">\n\t<div id=\"topbar\" class=\"bbs-content\">\n\t\t<a id=\"logo\" href=\"/bbs/\">批踢踢實業坊</a>\n\t\t<span>&rsaquo;</span>\n\t\t<a class=\"board\" href=\"/bbs/movie/index.html\"><span class=\"board-label\">看板 </span>movie</a>\n\t\t<a class=\"right small\" href=\"/about.html\">關於我們</a>\n\t\t<a class=\"right small\" href=\"/contact.html\">聯絡資訊</a>\n\t</div>\n</div>\n\n<div id=\"main-container\">\n\t<div id=\"action-bar-container\">\n\t\t<div class=\"action-bar\">\n\t\t\t<div class=\"btn-group btn-group-dir\">\n\t\t\t\t<a class=\"btn selected\" href=\"/bbs/movie/index.html\">看板</a>\n\t\t\t\t<a class=\"btn\" href=\"/man/movie/index.html\">精華區</a>\n\t\t\t</div>\n\t\t\t<div class=\"btn-group btn-group-paging\">\n\t\t\t\t<a class=\"btn wide\" href=\"/bbs/movie/index1.html\">最舊</a>\n\t\t\t\t<a class=\"btn wide\" href=\"/bbs/movie/index8773.html\">&lsaquo; 上頁</a>\n\t\t\t\t<a class=\"btn wide disabled\">下頁 &rsaquo;</a>\n\t\t\t\t<a class=\"btn wide\" href=\"/bbs/movie/index.html\">最新</a>\n\t\t\t</div>\n\t\t</div>\n\t</div>\n\n\t<div class=\"r-list-container action-bar-margin bbs-screen\">\n\t\t<div class=\"search-bar\">\n\t\t\t<form type=\"get\" action=\"search\" id=\"search-bar\">\n\t\t\t\t<input class=\"query\" type=\"text\" name=\"q\" value=\"\" placeholder=\"搜尋文章&#x22ef;\">\n\t\t\t</form>\n\t\t</div>\n\n\t\t\n\t\t\n            \n        \n        \n\t\t<div class=\"r-ent\">\n\t\t\t<div class=\"nrec\"><span class=\"hl f2\">6</span></div>\n\t\t\t<div class=\"title\">\n\t\t\t\n\t\t\t\t<a href=\"/bbs/movie/M.1581504592.A.E3D.html\">[討論] 看好台灣哪個導演有可能拿下奧斯卡獎呢?</a>\n\t\t\t\n\t\t\t</div>\n\t\t\t<div class=\"meta\">\n\t\t\t\t<div class=\"author\">huanglove</div>\n\t\t\t\t<div class=\"article-menu\">\n\t\t\t\t\t\n\t\t\t\t\t<div class=\"trigger\">&#x22ef;</div>\n\t\t\t\t\t<div class=\"dropdown\">\n\t\t\t\t\t\t<div class=\"item\"><a href=\"/bbs/movie/search?q=thread%3A%5B%E8%A8%8E%E8%AB%96%5D&#43;%E7%9C%8B%E5%A5%BD%E5%8F%B0%E7%81%A3%E5%93%AA%E5%80%8B%E5%B0%8E%E6%BC%94%E6%9C%89%E5%8F%AF%E8%83%BD%E6%8B%BF%E4%B8%8B%E5%A5%A7%E6%96%AF%E5%8D%A1%E7%8D%8E%E5%91%A2%3F\">搜尋同標題文章</a></div>\n\t\t\t\t\t\t\n\t\t\t\t\t\t<div class=\"item\"><a href=\"/bbs/movie/search?q=author%3Ahuanglove\">搜尋看板內 huanglove 的文章</a></div>\n\t\t\t\t\t\t\n\t\t\t\t\t</div>\n\t\t\t\t\t\n\t\t\t\t</div>\n\t\t\t\t<div class=\"date\"> 2/12</div>\n\t\t\t\t<div class=\"mark\"></div>\n\t\t\t</div>\n\t\t</div>\n\n\t\t\n            \n        \n        \n\t\t<div class=\"r-ent\">\n\t\t\t<div class=\"nrec\"><span class=\"hl f3\">21</span></div>\n\t\t\t<div class=\"title\">\n\t\t\t\n\t\t\t\t<a href=\"/bbs/movie/M.1581505418.A.FBC.html\">[討論] 邏輯炸裂卻很好看的電影</a>\n\t\t\t\n\t\t\t</div>\n\t\t\t<div class=\"meta\">\n\t\t\t\t<div class=\"author\">KKKKKvs333</div>\n\t\t\t\t<div class=\"article-menu\">\n\t\t\t\t\t\n\t\t\t\t\t<div class=\"trigger\">&#x22ef;</div>\n\t\t\t\t\t<div class=\"dropdown\">\n\t\t\t\t\t\t<div class=\"item\"><a href=\"/bbs/movie/search?q=thread%3A%5B%E8%A8%8E%E8%AB%96%5D&#43;%E9%82%8F%E8%BC%AF%E7%82%B8%E8%A3%82%E5%8D%BB%E5%BE%88%E5%A5%BD%E7%9C%8B%E7%9A%84%E9%9B%BB%E5%BD%B1\">搜尋同標題文章</a></div>\n\t\t\t\t\t\t\n\t\t\t\t\t\t<div class=\"item\"><a href=\"/bbs/movie/search?q=author%3AKKKKKvs333\">搜尋看板內 KKKKKvs333 的文章</a></div>\n\t\t\t\t\t\t\n\t\t\t\t\t</div>\n\t\t\t\t\t\n\t\t\t\t</div>\n\t\t\t\t<div class=\"date\"> 2/12</div>\n\t\t\t\t<div class=\"mark\"></div>\n\t\t\t</div>\n\t\t</div>\n\n\t\t\n            \n        \n        \n\t\t<div class=\"r-ent\">\n\t\t\t<div class=\"nrec\"><span class=\"hl f2\">1</span></div>\n\t\t\t<div class=\"title\">\n\t\t\t\n\t\t\t\t<a href=\"/bbs/movie/M.1581505824.A.F71.html\">[新聞] NCC擬鬆綁黨政軍條款，將納管境外OTT平台</a>\n\t\t\t\n\t\t\t</div>\n\t\t\t<div class=\"meta\">\n\t\t\t\t<div class=\"author\">zkow</div>\n\t\t\t\t<div class=\"article-menu\">\n\t\t\t\t\t\n\t\t\t\t\t<div class=\"trigger\">&#x22ef;</div>\n\t\t\t\t\t<div class=\"dropdown\">\n\t\t\t\t\t\t<div class=\"item\"><a href=\"/bbs/movie/search?q=thread%3A%5B%E6%96%B0%E8%81%9E%5D&#43;NCC%E6%93%AC%E9%AC%86%E7%B6%81%E9%BB%A8%E6%94%BF%E8%BB%8D%E6%A2%9D%E6%AC%BE%EF%BC%8C%E5%B0%87%E7%B4%8D%E7%AE%A1%E5%A2%83%E5%A4%96OTT%E5%B9%B3%E5%8F%B0\">搜尋同標題文章</a></div>\n\t\t\t\t\t\t\n\t\t\t\t\t\t<div class=\"item\"><a href=\"/bbs/movie/search?q=author%3Azkow\">搜尋看板內 zkow 的文章</a></div>\n\t\t\t\t\t\t\n\t\t\t\t\t</div>\n\t\t\t\t\t\n\t\t\t\t</div>\n\t\t\t\t<div class=\"date\"> 2/12</div>\n\t\t\t\t<div class=\"mark\"></div>\n\t\t\t</div>\n\t\t</div>\n\n\t\t\n            \n        \n        \n\t\t<div class=\"r-ent\">\n\t\t\t<div class=\"nrec\"><span class=\"hl f2\">3</span></div>\n\t\t\t<div class=\"title\">\n\t\t\t\n\t\t\t\t<a href=\"/bbs/movie/M.1581509161.A.761.html\">Re: [請益] 李安真的輸給奉俊昊嗎</a>\n\t\t\t\n\t\t\t</div>\n\t\t\t<div class=\"meta\">\n\t\t\t\t<div class=\"author\">a9a99</div>\n\t\t\t\t<div class=\"article-menu\">\n\t\t\t\t\t\n\t\t\t\t\t<div class=\"trigger\">&#x22ef;</div>\n\t\t\t\t\t<div class=\"dropdown\">\n\t\t\t\t\t\t<div class=\"item\"><a href=\"/bbs/movie/search?q=thread%3A%5B%E8%AB%8B%E7%9B%8A%5D&#43;%E6%9D%8E%E5%AE%89%E7%9C%9F%E7%9A%84%E8%BC%B8%E7%B5%A6%E5%A5%89%E4%BF%8A%E6%98%8A%E5%97%8E\">搜尋同標題文章</a></div>\n\t\t\t\t\t\t\n\t\t\t\t\t\t<div class=\"item\"><a href=\"/bbs/movie/search?q=author%3Aa9a99\">搜尋看板內 a9a99 的文章</a></div>\n\t\t\t\t\t\t\n\t\t\t\t\t</div>\n\t\t\t\t\t\n\t\t\t\t</div>\n\t\t\t\t<div class=\"date\"> 2/12</div>\n\t\t\t\t<div class=\"mark\"></div>\n\t\t\t</div>\n\t\t</div>\n\n\t\t\n            \n        \n        \n\t\t<div class=\"r-ent\">\n\t\t\t<div class=\"nrec\"><span class=\"hl f2\">6</span></div>\n\t\t\t<div class=\"title\">\n\t\t\t\n\t\t\t\t<a href=\"/bbs/movie/M.1581509789.A.F79.html\">Re: [討論] 寄生上流最大的敗筆</a>\n\t\t\t\n\t\t\t</div>\n\t\t\t<div class=\"meta\">\n\t\t\t\t<div class=\"author\">a27938686</div>\n\t\t\t\t<div class=\"article-menu\">\n\t\t\t\t\t\n\t\t\t\t\t<div class=\"trigger\">&#x22ef;</div>\n\t\t\t\t\t<div class=\"dropdown\">\n\t\t\t\t\t\t<div class=\"item\"><a href=\"/bbs/movie/search?q=thread%3A%5B%E8%A8%8E%E8%AB%96%5D&#43;%E5%AF%84%E7%94%9F%E4%B8%8A%E6%B5%81%E6%9C%80%E5%A4%A7%E7%9A%84%E6%95%97%E7%AD%86\">搜尋同標題文章</a></div>\n\t\t\t\t\t\t\n\t\t\t\t\t\t<div class=\"item\"><a href=\"/bbs/movie/search?q=author%3Aa27938686\">搜尋看板內 a27938686 的文章</a></div>\n\t\t\t\t\t\t\n\t\t\t\t\t</div>\n\t\t\t\t\t\n\t\t\t\t</div>\n\t\t\t\t<div class=\"date\"> 2/12</div>\n\t\t\t\t<div class=\"mark\"></div>\n\t\t\t</div>\n\t\t</div>\n\n\t\t\n            \n        \n        \n\t\t<div class=\"r-ent\">\n\t\t\t<div class=\"nrec\"><span class=\"hl f2\">4</span></div>\n\t\t\t<div class=\"title\">\n\t\t\t\n\t\t\t\t<a href=\"/bbs/movie/M.1581510801.A.87D.html\">Re: [討論] 奧斯卡十國Elsa齊唱「冰雪2」主題曲</a>\n\t\t\t\n\t\t\t</div>\n\t\t\t<div class=\"meta\">\n\t\t\t\t<div class=\"author\">happyary</div>\n\t\t\t\t<div class=\"article-menu\">\n\t\t\t\t\t\n\t\t\t\t\t<div class=\"trigger\">&#x22ef;</div>\n\t\t\t\t\t<div class=\"dropdown\">\n\t\t\t\t\t\t<div class=\"item\"><a href=\"/bbs/movie/search?q=thread%3A%5B%E8%A8%8E%E8%AB%96%5D&#43;%E5%A5%A7%E6%96%AF%E5%8D%A1%E5%8D%81%E5%9C%8BElsa%E9%BD%8A%E5%94%B1%E3%80%8C%E5%86%B0%E9%9B%AA2%E3%80%8D%E4%B8%BB%E9%A1%8C%E6%9B%B2\">搜尋同標題文章</a></div>\n\t\t\t\t\t\t\n\t\t\t\t\t\t<div class=\"item\"><a href=\"/bbs/movie/search?q=author%3Ahappyary\">搜尋看板內 happyary 的文章</a></div>\n\t\t\t\t\t\t\n\t\t\t\t\t</div>\n\t\t\t\t\t\n\t\t\t\t</div>\n\t\t\t\t<div class=\"date\"> 2/12</div>\n\t\t\t\t<div class=\"mark\"></div>\n\t\t\t</div>\n\t\t</div>\n\n\t\t\n            \n        \n        \n\t\t<div class=\"r-ent\">\n\t\t\t<div class=\"nrec\"></div>\n\t\t\t<div class=\"title\">\n\t\t\t\n\t\t\t\t<a href=\"/bbs/movie/M.1581511038.A.F18.html\">[新聞] 爭議作品《惡獵遊戲》起死回生釋出全新預</a>\n\t\t\t\n\t\t\t</div>\n\t\t\t<div class=\"meta\">\n\t\t\t\t<div class=\"author\">hahaha0204</div>\n\t\t\t\t<div class=\"article-menu\">\n\t\t\t\t\t\n\t\t\t\t\t<div class=\"trigger\">&#x22ef;</div>\n\t\t\t\t\t<div class=\"dropdown\">\n\t\t\t\t\t\t<div class=\"item\"><a href=\"/bbs/movie/search?q=thread%3A%5B%E6%96%B0%E8%81%9E%5D&#43;%E7%88%AD%E8%AD%B0%E4%BD%9C%E5%93%81%E3%80%8A%E6%83%A1%E7%8D%B5%E9%81%8A%E6%88%B2%E3%80%8B%E8%B5%B7%E6%AD%BB%E5%9B%9E%E7%94%9F%E9%87%8B%E5%87%BA%E5%85%A8%E6%96%B0%E9%A0%90\">搜尋同標題文章</a></div>\n\t\t\t\t\t\t\n\t\t\t\t\t\t<div class=\"item\"><a href=\"/bbs/movie/search?q=author%3Ahahaha0204\">搜尋看板內 hahaha0204 的文章</a></div>\n\t\t\t\t\t\t\n\t\t\t\t\t</div>\n\t\t\t\t\t\n\t\t\t\t</div>\n\t\t\t\t<div class=\"date\"> 2/12</div>\n\t\t\t\t<div class=\"mark\"></div>\n\t\t\t</div>\n\t\t</div>\n\n\t\t\n            \n        \n        \n\t\t<div class=\"r-ent\">\n\t\t\t<div class=\"nrec\"><span class=\"hl f2\">1</span></div>\n\t\t\t<div class=\"title\">\n\t\t\t\n\t\t\t\t<a href=\"/bbs/movie/M.1581511106.A.38E.html\">Re: [討論] 看好台灣哪個導演有可能拿下奧斯卡獎呢?</a>\n\t\t\t\n\t\t\t</div>\n\t\t\t<div class=\"meta\">\n\t\t\t\t<div class=\"author\">loveswazi</div>\n\t\t\t\t<div class=\"article-menu\">\n\t\t\t\t\t\n\t\t\t\t\t<div class=\"trigger\">&#x22ef;</div>\n\t\t\t\t\t<div class=\"dropdown\">\n\t\t\t\t\t\t<div class=\"item\"><a href=\"/bbs/movie/search?q=thread%3A%5B%E8%A8%8E%E8%AB%96%5D&#43;%E7%9C%8B%E5%A5%BD%E5%8F%B0%E7%81%A3%E5%93%AA%E5%80%8B%E5%B0%8E%E6%BC%94%E6%9C%89%E5%8F%AF%E8%83%BD%E6%8B%BF%E4%B8%8B%E5%A5%A7%E6%96%AF%E5%8D%A1%E7%8D%8E%E5%91%A2%3F\">搜尋同標題文章</a></div>\n\t\t\t\t\t\t\n\t\t\t\t\t\t<div class=\"item\"><a href=\"/bbs/movie/search?q=author%3Aloveswazi\">搜尋看板內 loveswazi 的文章</a></div>\n\t\t\t\t\t\t\n\t\t\t\t\t</div>\n\t\t\t\t\t\n\t\t\t\t</div>\n\t\t\t\t<div class=\"date\"> 2/12</div>\n\t\t\t\t<div class=\"mark\"></div>\n\t\t\t</div>\n\t\t</div>\n\n\t\t\n            \n        \n        \n\t\t<div class=\"r-ent\">\n\t\t\t<div class=\"nrec\"><span class=\"hl f2\">6</span></div>\n\t\t\t<div class=\"title\">\n\t\t\t\n\t\t\t\t<a href=\"/bbs/movie/M.1581511145.A.D91.html\">[新聞] 娜塔莉波曼被「Me Too」女王轟不是真挺女</a>\n\t\t\t\n\t\t\t</div>\n\t\t\t<div class=\"meta\">\n\t\t\t\t<div class=\"author\">hahaha0204</div>\n\t\t\t\t<div class=\"article-menu\">\n\t\t\t\t\t\n\t\t\t\t\t<div class=\"trigger\">&#x22ef;</div>\n\t\t\t\t\t<div class=\"dropdown\">\n\t\t\t\t\t\t<div class=\"item\"><a href=\"/bbs/movie/search?q=thread%3A%5B%E6%96%B0%E8%81%9E%5D&#43;%E5%A8%9C%E5%A1%94%E8%8E%89%E6%B3%A2%E6%9B%BC%E8%A2%AB%E3%80%8CMe&#43;Too%E3%80%8D%E5%A5%B3%E7%8E%8B%E8%BD%9F%E4%B8%8D%E6%98%AF%E7%9C%9F%E6%8C%BA%E5%A5%B3\">搜尋同標題文章</a></div>\n\t\t\t\t\t\t\n\t\t\t\t\t\t<div class=\"item\"><a href=\"/bbs/movie/search?q=author%3Ahahaha0204\">搜尋看板內 hahaha0204 的文章</a></div>\n\t\t\t\t\t\t\n\t\t\t\t\t</div>\n\t\t\t\t\t\n\t\t\t\t</div>\n\t\t\t\t<div class=\"date\"> 2/12</div>\n\t\t\t\t<div class=\"mark\"></div>\n\t\t\t</div>\n\t\t</div>\n\n\t\t\n        \n        <div class=\"r-list-sep\"></div>\n            \n                \n        \n        \n\t\t<div class=\"r-ent\">\n\t\t\t<div class=\"nrec\"><span class=\"hl f3\">26</span></div>\n\t\t\t<div class=\"title\">\n\t\t\t\n\t\t\t\t<a href=\"/bbs/movie/M.1559611458.A.DCA.html\">[公告] 板規 2019/12/30</a>\n\t\t\t\n\t\t\t</div>\n\t\t\t<div class=\"meta\">\n\t\t\t\t<div class=\"author\">ckshchen</div>\n\t\t\t\t<div class=\"article-menu\">\n\t\t\t\t\t\n\t\t\t\t\t<div class=\"trigger\">&#x22ef;</div>\n\t\t\t\t\t<div class=\"dropdown\">\n\t\t\t\t\t\t<div class=\"item\"><a href=\"/bbs/movie/search?q=thread%3A%5B%E5%85%AC%E5%91%8A%5D&#43;%E6%9D%BF%E8%A6%8F&#43;2019%2F12%2F30\">搜尋同標題文章</a></div>\n\t\t\t\t\t\t\n\t\t\t\t\t\t<div class=\"item\"><a href=\"/bbs/movie/search?q=author%3Ackshchen\">搜尋看板內 ckshchen 的文章</a></div>\n\t\t\t\t\t\t\n\t\t\t\t\t</div>\n\t\t\t\t\t\n\t\t\t\t</div>\n\t\t\t\t<div class=\"date\"> 6/04</div>\n\t\t\t\t<div class=\"mark\"></div>\n\t\t\t</div>\n\t\t</div>\n\n            \n                \n        \n        \n\t\t<div class=\"r-ent\">\n\t\t\t<div class=\"nrec\"><span class=\"hl f2\">3</span></div>\n\t\t\t<div class=\"title\">\n\t\t\t\n\t\t\t\t<a href=\"/bbs/movie/M.1565855832.A.0A7.html\">[公告] 板規新增每日發文上限規定</a>\n\t\t\t\n\t\t\t</div>\n\t\t\t<div class=\"meta\">\n\t\t\t\t<div class=\"author\">hhwang</div>\n\t\t\t\t<div class=\"article-menu\">\n\t\t\t\t\t\n\t\t\t\t\t<div class=\"trigger\">&#x22ef;</div>\n\t\t\t\t\t<div class=\"dropdown\">\n\t\t\t\t\t\t<div class=\"item\"><a href=\"/bbs/movie/search?q=thread%3A%5B%E5%85%AC%E5%91%8A%5D&#43;%E6%9D%BF%E8%A6%8F%E6%96%B0%E5%A2%9E%E6%AF%8F%E6%97%A5%E7%99%BC%E6%96%87%E4%B8%8A%E9%99%90%E8%A6%8F%E5%AE%9A\">搜尋同標題文章</a></div>\n\t\t\t\t\t\t\n\t\t\t\t\t\t<div class=\"item\"><a href=\"/bbs/movie/search?q=author%3Ahhwang\">搜尋看板內 hhwang 的文章</a></div>\n\t\t\t\t\t\t\n\t\t\t\t\t</div>\n\t\t\t\t\t\n\t\t\t\t</div>\n\t\t\t\t<div class=\"date\"> 8/15</div>\n\t\t\t\t<div class=\"mark\">M</div>\n\t\t\t</div>\n\t\t</div>\n\n            \n                \n        \n        \n\t\t<div class=\"r-ent\">\n\t\t\t<div class=\"nrec\"><span class=\"hl f2\">1</span></div>\n\t\t\t<div class=\"title\">\n\t\t\t\n\t\t\t\t<a href=\"/bbs/movie/M.1576565795.A.547.html\">[公告] 獎季發文限制放寬</a>\n\t\t\t\n\t\t\t</div>\n\t\t\t<div class=\"meta\">\n\t\t\t\t<div class=\"author\">hhwang</div>\n\t\t\t\t<div class=\"article-menu\">\n\t\t\t\t\t\n\t\t\t\t\t<div class=\"trigger\">&#x22ef;</div>\n\t\t\t\t\t<div class=\"dropdown\">\n\t\t\t\t\t\t<div class=\"item\"><a href=\"/bbs/movie/search?q=thread%3A%5B%E5%85%AC%E5%91%8A%5D&#43;%E7%8D%8E%E5%AD%A3%E7%99%BC%E6%96%87%E9%99%90%E5%88%B6%E6%94%BE%E5%AF%AC\">搜尋同標題文章</a></div>\n\t\t\t\t\t\t\n\t\t\t\t\t\t<div class=\"item\"><a href=\"/bbs/movie/search?q=author%3Ahhwang\">搜尋看板內 hhwang 的文章</a></div>\n\t\t\t\t\t\t\n\t\t\t\t\t</div>\n\t\t\t\t\t\n\t\t\t\t</div>\n\t\t\t\t<div class=\"date\">12/17</div>\n\t\t\t\t<div class=\"mark\"></div>\n\t\t\t</div>\n\t\t</div>\n\n            \n                \n        \n        \n\t\t<div class=\"r-ent\">\n\t\t\t<div class=\"nrec\"><span class=\"hl f3\">15</span></div>\n\t\t\t<div class=\"title\">\n\t\t\t\n\t\t\t\t<a href=\"/bbs/movie/M.1578684521.A.1B8.html\">[公告] 關於跑步哥</a>\n\t\t\t\n\t\t\t</div>\n\t\t\t<div class=\"meta\">\n\t\t\t\t<div class=\"author\">ckshchen</div>\n\t\t\t\t<div class=\"article-menu\">\n\t\t\t\t\t\n\t\t\t\t\t<div class=\"trigger\">&#x22ef;</div>\n\t\t\t\t\t<div class=\"dropdown\">\n\t\t\t\t\t\t<div class=\"item\"><a href=\"/bbs/movie/search?q=thread%3A%5B%E5%85%AC%E5%91%8A%5D&#43;%E9%97%9C%E6%96%BC%E8%B7%91%E6%AD%A5%E5%93%A5\">搜尋同標題文章</a></div>\n\t\t\t\t\t\t\n\t\t\t\t\t\t<div class=\"item\"><a href=\"/bbs/movie/search?q=author%3Ackshchen\">搜尋看板內 ckshchen 的文章</a></div>\n\t\t\t\t\t\t\n\t\t\t\t\t</div>\n\t\t\t\t\t\n\t\t\t\t</div>\n\t\t\t\t<div class=\"date\"> 1/11</div>\n\t\t\t\t<div class=\"mark\">M</div>\n\t\t\t</div>\n\t\t</div>\n\n            \n                \n        \n        \n\t\t<div class=\"r-ent\">\n\t\t\t<div class=\"nrec\"><span class=\"hl f2\">5</span></div>\n\t\t\t<div class=\"title\">\n\t\t\t\n\t\t\t\t<a href=\"/bbs/movie/M.1581435445.A.CAD.html\">[版規] 盜版版規細項討論</a>\n\t\t\t\n\t\t\t</div>\n\t\t\t<div class=\"meta\">\n\t\t\t\t<div class=\"author\">ckshchen</div>\n\t\t\t\t<div class=\"article-menu\">\n\t\t\t\t\t\n\t\t\t\t\t<div class=\"trigger\">&#x22ef;</div>\n\t\t\t\t\t<div class=\"dropdown\">\n\t\t\t\t\t\t<div class=\"item\"><a href=\"/bbs/movie/search?q=thread%3A%5B%E7%89%88%E8%A6%8F%5D&#43;%E7%9B%9C%E7%89%88%E7%89%88%E8%A6%8F%E7%B4%B0%E9%A0%85%E8%A8%8E%E8%AB%96\">搜尋同標題文章</a></div>\n\t\t\t\t\t\t\n\t\t\t\t\t\t<div class=\"item\"><a href=\"/bbs/movie/search?q=author%3Ackshchen\">搜尋看板內 ckshchen 的文章</a></div>\n\t\t\t\t\t\t\n\t\t\t\t\t</div>\n\t\t\t\t\t\n\t\t\t\t</div>\n\t\t\t\t<div class=\"date\"> 2/11</div>\n\t\t\t\t<div class=\"mark\">M</div>\n\t\t\t</div>\n\t\t</div>\n\n            \n        \n\t</div>\n\n    \n</div>\n\n\t\t\n\n<script>\n  (function(i,s,o,g,r,a,m){i['GoogleAnalyticsObject']=r;i[r]=i[r]||function(){\n  (i[r].q=i[r].q||[]).push(arguments)},i[r].l=1*new Date();a=s.createElement(o),\n  m=s.getElementsByTagName(o)[0];a.async=1;a.src=g;m.parentNode.insertBefore(a,m)\n  })(window,document,'script','https://www.google-analytics.com/analytics.js','ga');\n\n  ga('create', 'UA-32365737-1', {\n    cookieDomain: 'ptt.cc',\n    legacyCookieDomain: 'ptt.cc'\n  });\n  ga('send', 'pageview');\n</script>\n\n\n\t\t\n<script src=\"//ajax.googleapis.com/ajax/libs/jquery/2.1.1/jquery.min.js\"></script>\n<script src=\"//images.ptt.cc/bbs/v2.27/bbs.js\"></script>\n\n    </body>\n</html>\n\n"
    }
   ],
   "source": [
    "import requests\n",
    "\n",
    "def fetch(url):\n",
    "    response = requests.get(url)\n",
    "    response = requests.get(url, cookies={'over18': '1'})  # 一直向 server 回答滿 18 歲了 !\n",
    "    return response\n",
    "\n",
    "url = 'https://www.ptt.cc/bbs/movie/index.html'\n",
    "resp = fetch(url)  # step-1\n",
    "\n",
    "print(resp.text) # result of setp-1"
   ]
  },
  {
   "cell_type": "code",
   "execution_count": 15,
   "metadata": {},
   "outputs": [
    {
     "name": "stdout",
     "output_type": "stream",
     "text": "[<Element 'div' class=('r-ent',)>, <Element 'div' class=('r-ent',)>, <Element 'div' class=('r-ent',)>, <Element 'div' class=('r-ent',)>, <Element 'div' class=('r-ent',)>, <Element 'div' class=('r-ent',)>, <Element 'div' class=('r-ent',)>, <Element 'div' class=('r-ent',)>, <Element 'div' class=('r-ent',)>, <Element 'div' class=('r-ent',)>, <Element 'div' class=('r-ent',)>]\n"
    }
   ],
   "source": [
    "from requests_html import HTML\n",
    "\n",
    "def parse_article_entries(doc):\n",
    "    html = HTML(html=doc)\n",
    "    post_entries = html.find('div.r-ent')\n",
    "    return post_entries\n",
    "\n",
    "url = 'https://www.ptt.cc/bbs/Gossiping/index.html'\n",
    "resp = fetch(url)  # step-1\n",
    "post_entries = parse_article_entries(resp.text)  # step-2\n",
    "\n",
    "print(post_entries)  # result of setp-2"
   ]
  },
  {
   "cell_type": "code",
   "execution_count": 29,
   "metadata": {},
   "outputs": [
    {
     "name": "stdout",
     "output_type": "stream",
     "text": "[討論] 看好台灣哪個導演有可能拿下奧斯卡獎呢?\n[討論] 邏輯炸裂卻很好看的電影\n[新聞] NCC擬鬆綁黨政軍條款，將納管境外OTT平台\nRe: [請益] 李安真的輸給奉俊昊嗎\nRe: [討論] 寄生上流最大的敗筆\nRe: [討論] 奧斯卡十國Elsa齊唱「冰雪2」主題曲\n[新聞] 爭議作品《惡獵遊戲》起死回生釋出全新預\nRe: [討論] 看好台灣哪個導演有可能拿下奧斯卡獎呢?\n[新聞] 娜塔莉波曼被「Me Too」女王轟不是真挺女\nRe: [討論] 小丑女北美票房爆死的原因（政治正確）\n[公告] 板規 2019/12/30\n[公告] 板規新增每日發文上限規定\n[公告] 獎季發文限制放寬\n[公告] 關於跑步哥\n[版規] 盜版版規細項討論\n"
    }
   ],
   "source": [
    "def parse_article_meta(entry):\n",
    "    '''\n",
    "    每筆資料都存在 dict() 類型中：key-value paird data\n",
    "    '''\n",
    "    return {\n",
    "        'title': entry.find('div.title', first=True).text,\n",
    "        'push': entry.find('div.nrec', first=True).text,\n",
    "        'date': entry.find('div.date', first=True).text,\n",
    "        'author': entry.find('div.author', first=True).text,\n",
    "        'link': entry.find('div.title > a', first=True).attrs['href'],\n",
    "    }\n",
    "\n",
    "url = 'https://www.ptt.cc/bbs/movie/index.html'\n",
    "resp = fetch(url)  # step-1\n",
    "post_entries = parse_article_entries(resp.text)  # step-2\n",
    "\n",
    "for entry in post_entries:\n",
    "    meta = parse_article_meta(entry)\n",
    "    #print(meta_article)  # result of setp-3\n",
    "    print(meta['title']) \n"
   ]
  },
  {
   "cell_type": "code",
   "execution_count": null,
   "metadata": {},
   "outputs": [],
   "source": []
  }
 ]
}