{
 "cells": [
  {
   "cell_type": "markdown",
   "metadata": {},
   "source": [
    "# YAHOO電影爬蟲練習\n",
    "## 練習爬取電影放映資訊。必須逐步獲取電影的代號、放映地區、放映日期後，再送出查詢給伺服器。"
   ]
  },
  {
   "cell_type": "code",
   "execution_count": 27,
   "metadata": {},
   "outputs": [],
   "source": [
    "import requests\n",
    "import re\n",
    "from bs4 import BeautifulSoup"
   ]
  },
  {
   "cell_type": "markdown",
   "metadata": {},
   "source": [
    "### 先搜尋全部的電影代號(ID)資訊"
   ]
  },
  {
   "cell_type": "code",
   "execution_count": 28,
   "metadata": {},
   "outputs": [
    {
     "name": "stdout",
     "output_type": "stream",
     "text": "Movie: 大監獄行動, ID: 10450\nMovie: 惡靈20, ID: 10444\nMovie: 星星知我心, ID: 10409\nMovie: Cunningham 機遇之舞, ID: 10385\nMovie: 逃出天堂島, ID: 10384\nMovie: 鬼眼逼人, ID: 10379\nMovie: 動畫電影版 我想吃掉你的胰臟, ID: 10377\nMovie: 魯邦三世 The First, ID: 10355\nMovie: 重磅腥聞, ID: 10320\nMovie: 菠蘿蜜, ID: 10412\nMovie: 陰兒, ID: 10393\nMovie: 這一次不再錯過你, ID: 10389\nMovie: 別告訴她, ID: 10382\nMovie: 鬼屋實錄：惡魔之家, ID: 10378\nMovie: 驅魔直播, ID: 10375\nMovie: 真愛裁會贏, ID: 10362\nMovie: 那一夜, ID: 10345\nMovie: 兔嘲男孩, ID: 10283\nMovie: 海上鋼琴師4K數位修復, ID: 10425\nMovie: 鹿皮奇談, ID: 10420\nMovie: 大約在冬季, ID: 10408\nMovie: 倒數計死, ID: 10390\nMovie: 竊竊屍語, ID: 10365\nMovie: 舞力決戰, ID: 10344\nMovie: 潛艦追緝, ID: 10333\nMovie: 霹靂嬌娃, ID: 10124\nMovie: 白頭山：半島浩劫, ID: 10354\nMovie: CATS貓, ID: 10166\nMovie: 茱蒂, ID: 10112\nMovie: 燃燒女子的畫像, ID: 10069\nMovie: 葉問4：完結篇, ID: 9890\nMovie: STAR WARS : 天行者的崛起, ID: 10225\nMovie: 祭旗, ID: 10373\nMovie: 黑熊來了, ID: 10357\nMovie: 假面騎士劇場版ZI-O Over Quartzer, ID: 10331\nMovie: 8級警戒, ID: 10323\nMovie: 大說謊家, ID: 10122\nMovie: 呆萌特務, ID: 10264\nMovie: 去年聖誕節, ID: 10256\nMovie: 野蠻遊戲：全面晉級, ID: 10134\nMovie: 懸案密碼前傳：瓶中信, ID: 10254\nMovie: 鋒迴路轉, ID: 10258\nMovie: 賽道狂人, ID: 10097\nMovie: 82年生的金智英, ID: 10298\nMovie: 冰雪奇緣2, ID: 9597\nMovie: 催眠．裁決, ID: 10322\nMovie: 黑金叛徒, ID: 10321\nMovie: 決戰中途島, ID: 10130\nMovie: 安眠醫生, ID: 10098\nMovie: 陽光普照, ID: 10240\nMovie: 傻傻愛你，傻傻愛我, ID: 10075\nMovie: 失憶的總理大臣, ID: 10246\nMovie: 陪你很久很久, ID: 10160\nMovie: 雙子殺手, ID: 10017\nMovie: 加油吧！李先生, ID: 10250\nMovie: 七個會議, ID: 10011\nMovie: 黑魔女2, ID: 10262\nMovie: 電影版 壞傢伙們, ID: 10249\nMovie: 江湖無難事, ID: 10241\nMovie: 仙戒奇緣, ID: 10211\nMovie: 藍波：最後一滴血, ID: 10205\nMovie: 屍樂園：髒比雙拼, ID: 10176\nMovie: 108悍將, ID: 10238\nMovie: 小丑, ID: 9949\nMovie: 教父II, ID: 10289\nMovie: 瞞天機密, ID: 10206\nMovie: 校外打怪教學, ID: 10200\nMovie: 無間行動, ID: 10155\nMovie: 囧媽的極地任務, ID: 7772\nMovie: 返校, ID: 10109\nMovie: 天氣之子, ID: 10091\nMovie: 極限逃生, ID: 10174\nMovie: 航海王：奪寶爭霸戰, ID: 10169\nMovie: 全面攻佔3：天使救援, ID: 10082\nMovie: 憤怒鳥玩電影2：冰的啦, ID: 10002\nMovie: 從前，有個好萊塢, ID: 9884\nMovie: 獅子王, ID: 9116\nMovie: 寄生上流, ID: 10020\nMovie: 玩具總動員4, ID: 9924\nMovie: 毀滅者, ID: 9405\nMovie: 庫爾斯克號：深海救援, ID: 9134\nMovie: 厄夜追緝令, ID: 9589\nMovie: 苦兒流浪記, ID: 9538\nMovie: 活個精彩, ID: 9394\nMovie: 限時好友, ID: 9578\nMovie: 祝你忌日快樂, ID: 9568\nMovie: 艾莉塔：戰鬥天使, ID: 8553\nMovie: 馴龍高手3, ID: 8350\nMovie: 幸福綠皮書, ID: 9150\nMovie: 一首搖滾上月球, ID: 4887\nMovie: 錢不夠用2, ID: 3026\nMovie: 國際市場：半世紀的諾言, ID: 8273\n"
    }
   ],
   "source": [
    "# 查看目前上映那些電影，並擷取出其ID資訊\n",
    "url = 'https://movies.yahoo.com.tw/'\n",
    "resp = requests.get(url)\n",
    "resp.encoding = 'utf-8'\n",
    "\n",
    "soup = BeautifulSoup(resp.text, 'lxml')\n",
    "html = soup.find(\"select\", attrs={'name':'movie_id'})\n",
    "movie_item = html.find_all(\"option\", attrs={'data-name':re.compile('.*')})\n",
    "\n",
    "for p in movie_item:\n",
    "    print(\"Movie: %s, ID: %s\" % (p[\"data-name\"], p[\"value\"]))"
   ]
  },
  {
   "cell_type": "markdown",
   "metadata": {},
   "source": [
    "### 指定你有興趣的電影其ID，然後查詢其放映地區資訊。"
   ]
  },
  {
   "cell_type": "code",
   "execution_count": 29,
   "metadata": {},
   "outputs": [],
   "source": [
    "# 參考前一個步驟中擷取到的ID資訊，並指定ID\n",
    "movie_id = 9597"
   ]
  },
  {
   "cell_type": "code",
   "execution_count": 30,
   "metadata": {},
   "outputs": [
    {
     "name": "stdout",
     "output_type": "stream",
     "text": "放映地區: 台北市, 代號(area_id): 28\n放映地區: 新北市, 代號(area_id): 8\n放映地區: 桃園, 代號(area_id): 16\n放映地區: 新竹, 代號(area_id): 20\n放映地區: 苗栗, 代號(area_id): 15\n放映地區: 台中, 代號(area_id): 2\n放映地區: 彰化, 代號(area_id): 22\n放映地區: 南投, 代號(area_id): 13\n放映地區: 嘉義, 代號(area_id): 21\n放映地區: 台南, 代號(area_id): 10\n放映地區: 高雄, 代號(area_id): 17\n放映地區: 宜蘭, 代號(area_id): 11\n放映地區: 台東, 代號(area_id): 9\n"
    }
   ],
   "source": [
    "url = 'https://movies.yahoo.com.tw/api/v1/areas_by_movie_theater'\n",
    "payload = {'movie_id':str(movie_id)}\n",
    "\n",
    "# 模擬一個header\n",
    "headers = {\n",
    "    'authority': 'movies.yahoo.com.tw',\n",
    "    'method': 'GET',\n",
    "    'path': '/api/v1/areas_by_movie_theater?movie_id=' + str(movie_id),\n",
    "    'scheme': 'https',\n",
    "    'accept': 'application/json, text/javascript, */*; q=0.01',\n",
    "    'accept-encoding': 'gzip, deflate, br',\n",
    "    'accept-language': 'zh-TW,zh;q=0.9,en-US;q=0.8,en;q=0.7,zh-CN;q=0.6',\n",
    "    'cookie': 'rxx=9s3x2fws06.1g16irnc&v=1; _ga=GA1.3.2056742944.1551651301; GUC=AQEBAQFczFpdm0IfmwSB&s=AQAAACoo4N5D&g=XMsVBw; BX=4hkdk1decm57t&b=3&s=mr; _ga=GA1.4.2056742944.1551651301; nexagesuid=82843256dd234e8e91aa73f2062f8218; browsed_movie=eyJpdiI6IlJXWWtiSWJaZlNGK2MxQnhscnVUYWc9PSIsInZhbHVlIjoiMXRhMmVHRXRIeUNjc1RBWDJzdGYwbnlIQURmWGsrcjJSMzhkbkcraDNJVUNIZEZsbzU3amlFcVZ1NzlmazJrTGpoMjVrbHk1YmpoRENXaHZTOUw1TmI2ZTZVWHdOejZQZm16RmVuMWlHTTJLaTZLVFZZVkFOMDlTd1wvSGltcytJIiwibWFjIjoiZWQ2ZjA4MmVjZmZlYjlmNjJmYmY2NGMyMDI0Njc0NWViYjVkOWE2NDg0N2RhODMxZjBjZDhiMmJhZTc2MDZhYiJ9; avi=eyJpdiI6Im1NeWFJRlVRWDR1endEcGRGUGJUbVE9PSIsInZhbHVlIjoickRpU3JuUytmcGl6cjF5OW0rNU9iZz09IiwibWFjIjoiY2VmY2NkNzZmM2NhNjY5YzlkOTcyNjE5OGEyMzU0NWYxOTdmMDRkMDY3OWNmMmZjOTMxYjc5MjI5N2Q5NGE5MiJ9; cmp=t=1559391030&j=0; _gid=GA1.4.779543841.1559391031; XSRF-TOKEN=eyJpdiI6IkhpS2hGcDRQaHlmWUJmaHdSS2Q2bHc9PSIsInZhbHVlIjoiOUVoNFk4OHI1UUZmUWRtYXhza0MyWjJSTlhlZ3RnT0VGeVJPN2JuczVRMGRFdWt2OUlsamVKeHRobFwvcHBGM0dhU3VyMXNGTHlsb2dVM2l0U1hpUGxBPT0iLCJtYWMiOiJkZWU4YzJhNjAxMTY3MzE4Y2ExNWIxYmE1ZjE1YWZlZTlhOTcyYjc4M2RlZGY4ZWNjZDYyMTA2NGYwZGViMzc2In0%3D; m_s=eyJpdiI6InpsZHZ2Tk1BZ0dxaHhETml1RjBnUXc9PSIsInZhbHVlIjoiSkNGeHUranRoXC85bDFiaDhySTJqNkJRcWdjWUxjeVRJSHVYZ1wvd2d4bWJZUTUrSHVDM0lUcW5KNHdETFZ4T1lieU81OUhzc1VoUXhZcWk0UDZSQXVFdz09IiwibWFjIjoiYmJkMDJkMDhlODIzMzcyMWY4M2NmYWNjNGVlOWRjMDIwZmVmNzAyMjE3Yzg3ZGY3ODBkZWEzZTI4MTI5ZWNmOSJ9; _gat=1; nexagesd=10',\n",
    "    'dnt': '1',\n",
    "    'mv-authorization': '21835b082e15b91a69b3851eec7b31b82ce82afb',\n",
    "    'referer': 'https://movies.yahoo.com.tw/',\n",
    "    'user-agent': 'Mozilla/5.0 (Windows NT 10.0; Win64; x64) AppleWebKit/537.36 (KHTML, like Gecko) Chrome/74.0.3729.169 Safari/537.36',\n",
    "    'x-requested-with': 'XMLHttpRequest',\n",
    "}\n",
    "    \n",
    "resp = requests.get(url, params=payload, headers=headers)\n",
    "#print(resp.json())  # 若有需要，列印出json原始碼\n",
    "\n",
    "# 這裡回傳的格式是JSON格式的資料，要解析JSON擷取資料\n",
    "for p in resp.json():\n",
    "    print('放映地區: {0}, 代號(area_id): {1}'.format(p['title'], p['area_id']))"
   ]
  },
  {
   "cell_type": "markdown",
   "metadata": {},
   "source": [
    "### 指定你想要觀看的放映地區，查詢有上映電影的場次日期"
   ]
  },
  {
   "cell_type": "code",
   "execution_count": 31,
   "metadata": {},
   "outputs": [],
   "source": [
    "# 指定放映地區\n",
    "area_id = 28"
   ]
  },
  {
   "cell_type": "code",
   "execution_count": 32,
   "metadata": {},
   "outputs": [
    {
     "name": "stdout",
     "output_type": "stream",
     "text": "一月 12\n一月 13\n一月 14\n一月 15\n一月 16\n"
    }
   ],
   "source": [
    "# 向網站發送請求\n",
    "url = 'https://movies.yahoo.com.tw/movietime_result.html'\n",
    "payload = {'movie_id':str(movie_id), 'area_id':str(area_id)}\n",
    "resp = requests.get(url, params=payload)\n",
    "resp.encoding = 'utf-8'\n",
    "\n",
    "soup = BeautifulSoup(resp.text, 'lxml')\n",
    "movie_date = soup.find_all(\"label\", attrs={'for':re.compile(\"date_[\\d]\")})\n",
    "\n",
    "# 列印播放日期\n",
    "for date in movie_date:\n",
    "    print(\"%s %s\" % (date.p.string, date.h3.string))"
   ]
  },
  {
   "cell_type": "markdown",
   "metadata": {},
   "source": [
    "### 最後指定觀看的日期，查詢並列印出放映的電影院、放映類型(數位、3D、IMAX 3D...)、放映時間等資訊。"
   ]
  },
  {
   "cell_type": "code",
   "execution_count": 34,
   "metadata": {},
   "outputs": [],
   "source": [
    "# 選定要觀看的日期\n",
    "date = \"2020-01-14\""
   ]
  },
  {
   "cell_type": "code",
   "execution_count": 35,
   "metadata": {},
   "outputs": [],
   "source": [
    "# 向網站發送請求，獲取上映的電影院及時間資訊\n",
    "url = \"https://movies.yahoo.com.tw/ajax/pc/get_schedule_by_movie\"\n",
    "payload = {'movie_id':str(movie_id),\n",
    "           'date':date,\n",
    "           'area_id':str(area_id),\n",
    "           'theater_id':'',\n",
    "           'datetime':'',\n",
    "           'movie_type_id':''}\n",
    "\n",
    "resp = requests.get(url, params=payload)\n",
    "#print(resp.json()['view'])  # 若有需要，列印出json原始碼\n",
    "\n",
    "soup = BeautifulSoup(resp.json()['view'], 'lxml')\n",
    "html = soup.find_all(\"ul\", attrs={'data-theater_name':re.compile(\".*\")})"
   ]
  },
  {
   "cell_type": "code",
   "execution_count": 36,
   "metadata": {},
   "outputs": [
    {
     "name": "stdout",
     "output_type": "stream",
     "text": "==========================\n電影院名稱:台北美麗華大直影城\n影片名稱:冰雪奇緣2 影片放映類型:數位 時間表:2020-01-14 09:00:00\n影片名稱:冰雪奇緣2 影片放映類型:數位 時間表:2020-01-14 11:30:00\n影片名稱:冰雪奇緣2 影片放映類型:數位 時間表:2020-01-14 16:30:00\n影片名稱:冰雪奇緣2 影片放映類型:數位 時間表:2020-01-14 18:30:00\n==========================\n電影院名稱:台北in89豪華數位影城\n影片名稱:冰雪奇緣2 影片放映類型:數位 時間表:2020-01-14 13:50:00\n==========================\n電影院名稱:台北日新威秀影城\n影片名稱:冰雪奇緣2 影片放映類型:數位 時間表:2020-01-14 18:20:00\n==========================\n電影院名稱:台北信義威秀影城\n影片名稱:冰雪奇緣2 影片放映類型:數位 時間表:2020-01-14 10:10:00\n影片名稱:冰雪奇緣2 影片放映類型:數位 時間表:2020-01-14 14:15:00\n影片名稱:冰雪奇緣2 影片放映類型:數位 時間表:2020-01-14 18:25:00\n影片名稱:冰雪奇緣2 影片放映類型:數位 時間表:2020-01-14 21:55:00\n影片名稱:冰雪奇緣2 影片放映類型:數位 時間表:2020-01-14 12:10:00\n影片名稱:冰雪奇緣2 影片放映類型:數位 時間表:2020-01-14 16:20:00\n==========================\n電影院名稱:京站威秀影城\n影片名稱:冰雪奇緣2 影片放映類型:數位 時間表:2020-01-14 11:30:00\n影片名稱:冰雪奇緣2 影片放映類型:數位 時間表:2020-01-14 17:25:00\n影片名稱:冰雪奇緣2 影片放映類型:數位 時間表:2020-01-14 21:15:00\n==========================\n電影院名稱:喜樂時代影城南港店\n影片名稱:冰雪奇緣2 影片放映類型:數位 時間表:2020-01-14 13:35:00\n影片名稱:冰雪奇緣2 影片放映類型:數位 時間表:2020-01-14 15:35:00\n影片名稱:冰雪奇緣2 影片放映類型:數位 時間表:2020-01-14 16:30:00\n==========================\n電影院名稱:MUVIE CINEMAS台北松仁威秀\n影片名稱:冰雪奇緣2 影片放映類型:數位 時間表:2020-01-14 12:15:00\n影片名稱:冰雪奇緣2 影片放映類型:數位 時間表:2020-01-14 18:00:00\n影片名稱:冰雪奇緣2 影片放映類型:數位 時間表:2020-01-14 22:10:00\n"
    }
   ],
   "source": [
    "for lists in html:\n",
    "#     print(type(lists))\n",
    "#     print(lists.a.text)\n",
    "    print('==========================')\n",
    "    print(\"電影院名稱:{0}\".format(lists.a.text,))\n",
    "    mTypes = lists.find_all('input',{'class':'gabtn'})\n",
    "    for mType in mTypes:\n",
    "        print(\"影片名稱:{0} 影片放映類型:{1} 時間表:{2}\".format(mType['data-movie_title'],mType['data-movie_type'],mType['value']))\n"
   ]
  },
  {
   "cell_type": "code",
   "execution_count": null,
   "metadata": {},
   "outputs": [],
   "source": []
  }
 ],
 "metadata": {
  "kernelspec": {
   "display_name": "Python 3",
   "language": "python",
   "name": "python3"
  },
  "language_info": {
   "codemirror_mode": {
    "name": "ipython",
    "version": 3
   },
   "file_extension": ".py",
   "mimetype": "text/x-python",
   "name": "python",
   "nbconvert_exporter": "python",
   "pygments_lexer": "ipython3",
   "version": "3.7.5-final"
  }
 },
 "nbformat": 4,
 "nbformat_minor": 2
}