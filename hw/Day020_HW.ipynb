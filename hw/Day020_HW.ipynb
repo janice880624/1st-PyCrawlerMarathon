{
 "cells": [
  {
   "cell_type": "markdown",
   "metadata": {},
   "source": [
    "# 動態網頁爬蟲 - API Request\n",
    "\n",
    "* 了解 API Request 用於動態網頁爬蟲的原理\n",
    "* 能夠使用 API Request 撰寫動態網頁爬蟲\n",
    "\n",
    "\n",
    "\n",
    "\n"
   ]
  },
  {
   "cell_type": "markdown",
   "metadata": {},
   "source": [
    "## 作業目標\n",
    "\n",
    "\n",
    "* 根據範例使用 API 取出 高雄市小港區 2019 年 空氣品質 資料，並用一個適合的資料結構儲存\n",
    "* Hint: 將所有資料存在一個變數當中\n"
   ]
  },
  {
   "source": [
    "import requests\n",
    "url = 'https://taqm.epa.gov.tw/taqm/tw/MonthlyAverage.aspx'\n",
    "payload = {\n",
    "    'ctl05$ddlSite': 11,\n",
    "    'ctl05$ddlYear': 2019,\n",
    "    'ctl05$btnQuery': '查詢',\n",
    "    'ScriptManager1': 'ctl05$UpdatePanel1|ctl05$btnQuery',\n",
    "    '__VIEWSTATE': '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',\n",
    "    '__VIEWSTATEGENERATOR': '0C858E1A',\n",
    "    '__EVENTVALIDATION': 'lmDZUOi4Wz/K4Dp14cVb8w35TDx7Hihjq6D/7SznBn6qbyU+YUco5epgMguuerL8HqqjXp9MCzHRa2gJ4ryIYkyS3/U3t7Udhxs5zA8aFXL/IV5nSOhCNaqG64eXvcHUIYePEuOTr5+uoLdabOqnD3gHXIc34z9X91EPBCI+uBO1RLhxlZ9oNh41QA1HBocq7PUl7lj+Fj6ELGooInulsq5buuhXjpu/eTsF/JLRBZQXRhAXZu4TMYJlOp7Ls2WV3a8COaQhr9zuwECzt3yEr4a05V0LNFWXy3cquVDn/z331Y3ZxPKN8mVU5U6bsOLHci0iQ+NfBX+nCdd5/Tbj/sazFvUgd9N4zosIaSPZep1/axhZnqHqD27Jm+OJYyUhr2deo3Ag6MDCQ4ByI4ZNywwPgy12X9uDOl1W0onhlhx3JJzKKumiSYFFkL4q3j+b/PEziUS5ggV0tKo7gPQnM4CsdddoFOTZcKOesmRnZVPaPKgn3qbMk/8Vukc2mA9P2cEhfpJ8mXzDao5Z8zIBAUpuaO/FbD4PgT3Yq16O8UNukZ8ciZVUSRrhH8nPyC4Sn8erajk6qAGSMmz/AU4xt/J8kPP3ursGKp6aDa8Im1WMWRCRBB5k4WJuiMoLwRfMoUNFRa/EAnVC1lXCyQIVNbTkqFilDmpDPRBDOHNTMewGArllmEMdSH/V7VAIupyAuefLJbeokwOjwQirwjyG99rc6CQxSzPtIxIQFcpbcFT7FWJqIyVGRjeC5mBdHOwHe7WNCGtW/Mg0pF8wUhm3Rl3weyYQTNAh1KU2W5ZTmoPOJWOb9mPGRBC3D3jxTXsBhJ0B1UhbZMy17do53BWN9rDItQV85NKxaej+pQ5dDSaOZOMZPWFtbx29ANi/TAlsZCeYGMmOvRkPGxd3chTP6k1NKyh0ftL+wJ0fw7ZAFSy4yix89/zl9nLvSgsn4Lk2rGCtMa6DdYXBhfjq83cTxLEbFs4='\n",
    "}\n",
    "r = requests.post(url, data=payload)\n",
    "r.status_code"
   ],
   "cell_type": "code",
   "outputs": [
    {
     "output_type": "execute_result",
     "data": {
      "text/plain": "200"
     },
     "metadata": {},
     "execution_count": 1
    }
   ],
   "metadata": {},
   "execution_count": 1
  },
  {
   "cell_type": "markdown",
   "metadata": {},
   "source": [
    "![](https://imgur.com/obLkbFe.jpg)"
   ]
  },
  {
   "source": [
    "from bs4 import BeautifulSoup\n",
    "\n",
    "soup = BeautifulSoup(r.text, 'html.parser')\n",
    "table = soup.find('table', class_='TABLE_G')\n",
    "print(table)"
   ],
   "cell_type": "code",
   "outputs": [
    {
     "output_type": "stream",
     "name": "stdout",
     "text": "<table align=\"Center\" border=\"1\" cellpadding=\"3\" cellspacing=\"0\" class=\"TABLE_G\" id=\"ctl05_gv\" rules=\"all\" style=\"border-color:Black;border-width:1px;border-style:None;border-collapse:collapse;\">\n<tr style=\"color:Black;font-weight:normal;\">\n<th scope=\"col\">監測項目</th><th scope=\"col\">單位</th><th scope=\"col\">監測日期</th><th scope=\"col\">監測值</th><th scope=\"col\">標註</th>\n</tr><tr style=\"color:Black;\">\n<td class=\"no-alt\" rowspan=\"12\" style=\"white-space:nowrap;\" valign=\"top\">SO2</td><td class=\"no-alt\" rowspan=\"12\" valign=\"top\">ppb</td><td>2019/01</td><td>1.80</td><td> </td>\n</tr><tr class=\"ALT\" style=\"color:Black;\">\n<td>2019/02</td><td>1.60</td><td> </td>\n</tr><tr style=\"color:Black;\">\n<td>2019/03</td><td>1.90</td><td> </td>\n</tr><tr class=\"ALT\" style=\"color:Black;\">\n<td>2019/04</td><td>2.20</td><td> </td>\n</tr><tr style=\"color:Black;\">\n<td>2019/05</td><td>1.70</td><td> </td>\n</tr><tr class=\"ALT\" style=\"color:Black;\">\n<td>2019/06</td><td>1.90</td><td> </td>\n</tr><tr style=\"color:Black;\">\n<td>2019/07</td><td>2.10</td><td> </td>\n</tr><tr class=\"ALT\" style=\"color:Black;\">\n<td>2019/08</td><td>2</td><td> </td>\n</tr><tr style=\"color:Black;\">\n<td>2019/09</td><td>2</td><td> </td>\n</tr><tr class=\"ALT\" style=\"color:Black;\">\n<td>2019/10</td><td>1.90</td><td> </td>\n</tr><tr style=\"color:Black;\">\n<td>2019/11</td><td>1.80</td><td> </td>\n</tr><tr class=\"ALT\" style=\"color:Black;\">\n<td>2019/12</td><td>1.90</td><td> </td>\n</tr><tr style=\"color:Black;\">\n<td class=\"no-alt\" rowspan=\"12\" style=\"white-space:nowrap;\" valign=\"top\">CO</td><td class=\"no-alt\" rowspan=\"12\" valign=\"top\">ppm</td><td>2019/01</td><td>0.40</td><td> </td>\n</tr><tr class=\"ALT\" style=\"color:Black;\">\n<td>2019/02</td><td>0.43</td><td> </td>\n</tr><tr style=\"color:Black;\">\n<td>2019/03</td><td>0.40</td><td> </td>\n</tr><tr class=\"ALT\" style=\"color:Black;\">\n<td>2019/04</td><td>0.41</td><td> </td>\n</tr><tr style=\"color:Black;\">\n<td>2019/05</td><td>0.32</td><td> </td>\n</tr><tr class=\"ALT\" style=\"color:Black;\">\n<td>2019/06</td><td>0.35</td><td> </td>\n</tr><tr style=\"color:Black;\">\n<td>2019/07</td><td>0.28</td><td> </td>\n</tr><tr class=\"ALT\" style=\"color:Black;\">\n<td>2019/08</td><td>0.21</td><td> </td>\n</tr><tr style=\"color:Black;\">\n<td>2019/09</td><td>0.25</td><td> </td>\n</tr><tr class=\"ALT\" style=\"color:Black;\">\n<td>2019/10</td><td>0.28</td><td> </td>\n</tr><tr style=\"color:Black;\">\n<td>2019/11</td><td>0.25</td><td> </td>\n</tr><tr class=\"ALT\" style=\"color:Black;\">\n<td>2019/12</td><td>0.37</td><td> </td>\n</tr><tr style=\"color:Black;\">\n<td class=\"no-alt\" rowspan=\"12\" style=\"white-space:nowrap;\" valign=\"top\">O3</td><td class=\"no-alt\" rowspan=\"12\" valign=\"top\">ppb</td><td>2019/01</td><td>35</td><td> </td>\n</tr><tr class=\"ALT\" style=\"color:Black;\">\n<td>2019/02</td><td>33.40</td><td> </td>\n</tr><tr style=\"color:Black;\">\n<td>2019/03</td><td>45.50</td><td> </td>\n</tr><tr class=\"ALT\" style=\"color:Black;\">\n<td>2019/04</td><td>41.70</td><td> </td>\n</tr><tr style=\"color:Black;\">\n<td>2019/05</td><td>42.40</td><td> </td>\n</tr><tr class=\"ALT\" style=\"color:Black;\">\n<td>2019/06</td><td>27.30</td><td> </td>\n</tr><tr style=\"color:Black;\">\n<td>2019/07</td><td>23.80</td><td> </td>\n</tr><tr class=\"ALT\" style=\"color:Black;\">\n<td>2019/08</td><td>24.70</td><td> </td>\n</tr><tr style=\"color:Black;\">\n<td>2019/09</td><td>28.70</td><td> </td>\n</tr><tr class=\"ALT\" style=\"color:Black;\">\n<td>2019/10</td><td>46.40</td><td> </td>\n</tr><tr style=\"color:Black;\">\n<td>2019/11</td><td>42.80</td><td> </td>\n</tr><tr class=\"ALT\" style=\"color:Black;\">\n<td>2019/12</td><td>32.10</td><td> </td>\n</tr><tr style=\"color:Black;\">\n<td class=\"no-alt\" rowspan=\"12\" style=\"white-space:nowrap;\" valign=\"top\">PM10</td><td class=\"no-alt\" rowspan=\"12\" valign=\"top\">μg/m3</td><td>2019/01</td><td>28</td><td> </td>\n</tr><tr class=\"ALT\" style=\"color:Black;\">\n<td>2019/02</td><td>29</td><td> </td>\n</tr><tr style=\"color:Black;\">\n<td>2019/03</td><td>37</td><td> </td>\n</tr><tr class=\"ALT\" style=\"color:Black;\">\n<td>2019/04</td><td>36</td><td> </td>\n</tr><tr style=\"color:Black;\">\n<td>2019/05</td><td>32</td><td> </td>\n</tr><tr class=\"ALT\" style=\"color:Black;\">\n<td>2019/06</td><td>25</td><td> </td>\n</tr><tr style=\"color:Black;\">\n<td>2019/07</td><td>22</td><td> </td>\n</tr><tr class=\"ALT\" style=\"color:Black;\">\n<td>2019/08</td><td>17</td><td> </td>\n</tr><tr style=\"color:Black;\">\n<td>2019/09</td><td>18</td><td> </td>\n</tr><tr class=\"ALT\" style=\"color:Black;\">\n<td>2019/10</td><td>29</td><td> </td>\n</tr><tr style=\"color:Black;\">\n<td>2019/11</td><td>26</td><td> </td>\n</tr><tr class=\"ALT\" style=\"color:Black;\">\n<td>2019/12</td><td>21</td><td> </td>\n</tr><tr style=\"color:Black;\">\n<td class=\"no-alt\" rowspan=\"12\" style=\"white-space:nowrap;\" valign=\"top\">NOx</td><td class=\"no-alt\" rowspan=\"12\" valign=\"top\">ppb</td><td>2019/01</td><td>14.95</td><td> </td>\n</tr><tr class=\"ALT\" style=\"color:Black;\">\n<td>2019/02</td><td>15.39</td><td> </td>\n</tr><tr style=\"color:Black;\">\n<td>2019/03</td><td>15.43</td><td> </td>\n</tr><tr class=\"ALT\" style=\"color:Black;\">\n<td>2019/04</td><td>16.25</td><td> </td>\n</tr><tr style=\"color:Black;\">\n<td>2019/05</td><td>13.75</td><td> </td>\n</tr><tr class=\"ALT\" style=\"color:Black;\">\n<td>2019/06</td><td>17.71</td><td> </td>\n</tr><tr style=\"color:Black;\">\n<td>2019/07</td><td>13.93</td><td> </td>\n</tr><tr class=\"ALT\" style=\"color:Black;\">\n<td>2019/08</td><td>10.05</td><td> </td>\n</tr><tr style=\"color:Black;\">\n<td>2019/09</td><td>11.12</td><td> </td>\n</tr><tr class=\"ALT\" style=\"color:Black;\">\n<td>2019/10</td><td>10.04</td><td> </td>\n</tr><tr style=\"color:Black;\">\n<td>2019/11</td><td>9.61</td><td> </td>\n</tr><tr class=\"ALT\" style=\"color:Black;\">\n<td>2019/12</td><td>17.06</td><td> </td>\n</tr><tr style=\"color:Black;\">\n<td class=\"no-alt\" rowspan=\"12\" style=\"white-space:nowrap;\" valign=\"top\">NO</td><td class=\"no-alt\" rowspan=\"12\" valign=\"top\">ppb</td><td>2019/01</td><td>3.54</td><td> </td>\n</tr><tr class=\"ALT\" style=\"color:Black;\">\n<td>2019/02</td><td>2.76</td><td> </td>\n</tr><tr style=\"color:Black;\">\n<td>2019/03</td><td>2.74</td><td> </td>\n</tr><tr class=\"ALT\" style=\"color:Black;\">\n<td>2019/04</td><td>2.82</td><td> </td>\n</tr><tr style=\"color:Black;\">\n<td>2019/05</td><td>2.45</td><td> </td>\n</tr><tr class=\"ALT\" style=\"color:Black;\">\n<td>2019/06</td><td>3.91</td><td> </td>\n</tr><tr style=\"color:Black;\">\n<td>2019/07</td><td>2.87</td><td> </td>\n</tr><tr class=\"ALT\" style=\"color:Black;\">\n<td>2019/08</td><td>2.33</td><td> </td>\n</tr><tr style=\"color:Black;\">\n<td>2019/09</td><td>2.66</td><td> </td>\n</tr><tr class=\"ALT\" style=\"color:Black;\">\n<td>2019/10</td><td>2.17</td><td> </td>\n</tr><tr style=\"color:Black;\">\n<td>2019/11</td><td>2.22</td><td> </td>\n</tr><tr class=\"ALT\" style=\"color:Black;\">\n<td>2019/12</td><td>4.77</td><td> </td>\n</tr><tr style=\"color:Black;\">\n<td class=\"no-alt\" rowspan=\"12\" style=\"white-space:nowrap;\" valign=\"top\">NO2</td><td class=\"no-alt\" rowspan=\"12\" valign=\"top\">ppb</td><td>2019/01</td><td>11.42</td><td> </td>\n</tr><tr class=\"ALT\" style=\"color:Black;\">\n<td>2019/02</td><td>12.63</td><td> </td>\n</tr><tr style=\"color:Black;\">\n<td>2019/03</td><td>12.69</td><td> </td>\n</tr><tr class=\"ALT\" style=\"color:Black;\">\n<td>2019/04</td><td>13.43</td><td> </td>\n</tr><tr style=\"color:Black;\">\n<td>2019/05</td><td>11.30</td><td> </td>\n</tr><tr class=\"ALT\" style=\"color:Black;\">\n<td>2019/06</td><td>13.81</td><td> </td>\n</tr><tr style=\"color:Black;\">\n<td>2019/07</td><td>11.06</td><td> </td>\n</tr><tr class=\"ALT\" style=\"color:Black;\">\n<td>2019/08</td><td>7.73</td><td> </td>\n</tr><tr style=\"color:Black;\">\n<td>2019/09</td><td>8.46</td><td> </td>\n</tr><tr class=\"ALT\" style=\"color:Black;\">\n<td>2019/10</td><td>7.88</td><td> </td>\n</tr><tr style=\"color:Black;\">\n<td>2019/11</td><td>7.39</td><td> </td>\n</tr><tr class=\"ALT\" style=\"color:Black;\">\n<td>2019/12</td><td>12.29</td><td> </td>\n</tr><tr style=\"color:Black;\">\n<td class=\"no-alt\" rowspan=\"1\" style=\"white-space:nowrap;\" valign=\"top\">THC</td><td class=\"no-alt\" rowspan=\"1\" valign=\"top\">ppm</td><td> </td><td> </td><td>無此測項</td>\n</tr><tr class=\"ALT\" style=\"color:Black;\">\n<td class=\"no-alt\" rowspan=\"1\" style=\"white-space:nowrap;\" valign=\"top\">NMHC</td><td class=\"no-alt\" rowspan=\"1\" valign=\"top\">ppm</td><td> </td><td> </td><td>無此測項</td>\n</tr><tr style=\"color:Black;\">\n<td style=\"white-space:nowrap;\">CH4</td><td>ppm</td><td> </td><td> </td><td>無此測項</td>\n</tr>\n</table>\n"
    }
   ],
   "metadata": {},
   "execution_count": 2
  },
  {
   "source": [
    "d = {}\n",
    "key = ''\n",
    "date = ''\n",
    "items = table.find_all('td')\n",
    "for item in items:\n",
    "#     print(item)\n",
    "    if 'style' in item.attrs:\n",
    "        key = item.text\n",
    "        d[key]={}\n",
    "    elif 'class' not in item.attrs:\n",
    "        if item.text.strip() != '':\n",
    "#             print(item.text)\n",
    "            if '/'in item.text:\n",
    "                date = item.text\n",
    "            else:\n",
    "#                 print(item.text)\n",
    "                d[key][date] = item.text\n",
    "print(d)"
   ],
   "cell_type": "code",
   "outputs": [
    {
     "output_type": "stream",
     "name": "stdout",
     "text": "{'SO2': {'2019/01': '1.80', '2019/02': '1.60', '2019/03': '1.90', '2019/04': '2.20', '2019/05': '1.70', '2019/06': '1.90', '2019/07': '2.10', '2019/08': '2', '2019/09': '2', '2019/10': '1.90', '2019/11': '1.80', '2019/12': '1.90'}, 'CO': {'2019/01': '0.40', '2019/02': '0.43', '2019/03': '0.40', '2019/04': '0.41', '2019/05': '0.32', '2019/06': '0.35', '2019/07': '0.28', '2019/08': '0.21', '2019/09': '0.25', '2019/10': '0.28', '2019/11': '0.25', '2019/12': '0.37'}, 'O3': {'2019/01': '35', '2019/02': '33.40', '2019/03': '45.50', '2019/04': '41.70', '2019/05': '42.40', '2019/06': '27.30', '2019/07': '23.80', '2019/08': '24.70', '2019/09': '28.70', '2019/10': '46.40', '2019/11': '42.80', '2019/12': '32.10'}, 'PM10': {'2019/01': '28', '2019/02': '29', '2019/03': '37', '2019/04': '36', '2019/05': '32', '2019/06': '25', '2019/07': '22', '2019/08': '17', '2019/09': '18', '2019/10': '29', '2019/11': '26', '2019/12': '21'}, 'NOx': {'2019/01': '14.95', '2019/02': '15.39', '2019/03': '15.43', '2019/04': '16.25', '2019/05': '13.75', '2019/06': '17.71', '2019/07': '13.93', '2019/08': '10.05', '2019/09': '11.12', '2019/10': '10.04', '2019/11': '9.61', '2019/12': '17.06'}, 'NO': {'2019/01': '3.54', '2019/02': '2.76', '2019/03': '2.74', '2019/04': '2.82', '2019/05': '2.45', '2019/06': '3.91', '2019/07': '2.87', '2019/08': '2.33', '2019/09': '2.66', '2019/10': '2.17', '2019/11': '2.22', '2019/12': '4.77'}, 'NO2': {'2019/01': '11.42', '2019/02': '12.63', '2019/03': '12.69', '2019/04': '13.43', '2019/05': '11.30', '2019/06': '13.81', '2019/07': '11.06', '2019/08': '7.73', '2019/09': '8.46', '2019/10': '7.88', '2019/11': '7.39', '2019/12': '12.29'}, 'THC': {'2019/12': '無此測項'}, 'NMHC': {'2019/12': '無此測項'}, 'CH4': {'2019/12': '無此測項'}}\n"
    }
   ],
   "metadata": {},
   "execution_count": 3
  },
  {
   "source": [
    "import pandas as pd\n",
    "pd.DataFrame(d)"
   ],
   "cell_type": "code",
   "outputs": [
    {
     "output_type": "execute_result",
     "data": {
      "text/plain": "          SO2    CO     O3 PM10    NOx    NO    NO2   THC  NMHC   CH4\n2019/01  1.80  0.40     35   28  14.95  3.54  11.42   NaN   NaN   NaN\n2019/02  1.60  0.43  33.40   29  15.39  2.76  12.63   NaN   NaN   NaN\n2019/03  1.90  0.40  45.50   37  15.43  2.74  12.69   NaN   NaN   NaN\n2019/04  2.20  0.41  41.70   36  16.25  2.82  13.43   NaN   NaN   NaN\n2019/05  1.70  0.32  42.40   32  13.75  2.45  11.30   NaN   NaN   NaN\n2019/06  1.90  0.35  27.30   25  17.71  3.91  13.81   NaN   NaN   NaN\n2019/07  2.10  0.28  23.80   22  13.93  2.87  11.06   NaN   NaN   NaN\n2019/08     2  0.21  24.70   17  10.05  2.33   7.73   NaN   NaN   NaN\n2019/09     2  0.25  28.70   18  11.12  2.66   8.46   NaN   NaN   NaN\n2019/10  1.90  0.28  46.40   29  10.04  2.17   7.88   NaN   NaN   NaN\n2019/11  1.80  0.25  42.80   26   9.61  2.22   7.39   NaN   NaN   NaN\n2019/12  1.90  0.37  32.10   21  17.06  4.77  12.29  無此測項  無此測項  無此測項",
      "text/html": "<div>\n<style scoped>\n    .dataframe tbody tr th:only-of-type {\n        vertical-align: middle;\n    }\n\n    .dataframe tbody tr th {\n        vertical-align: top;\n    }\n\n    .dataframe thead th {\n        text-align: right;\n    }\n</style>\n<table border=\"1\" class=\"dataframe\">\n  <thead>\n    <tr style=\"text-align: right;\">\n      <th></th>\n      <th>SO2</th>\n      <th>CO</th>\n      <th>O3</th>\n      <th>PM10</th>\n      <th>NOx</th>\n      <th>NO</th>\n      <th>NO2</th>\n      <th>THC</th>\n      <th>NMHC</th>\n      <th>CH4</th>\n    </tr>\n  </thead>\n  <tbody>\n    <tr>\n      <td>2019/01</td>\n      <td>1.80</td>\n      <td>0.40</td>\n      <td>35</td>\n      <td>28</td>\n      <td>14.95</td>\n      <td>3.54</td>\n      <td>11.42</td>\n      <td>NaN</td>\n      <td>NaN</td>\n      <td>NaN</td>\n    </tr>\n    <tr>\n      <td>2019/02</td>\n      <td>1.60</td>\n      <td>0.43</td>\n      <td>33.40</td>\n      <td>29</td>\n      <td>15.39</td>\n      <td>2.76</td>\n      <td>12.63</td>\n      <td>NaN</td>\n      <td>NaN</td>\n      <td>NaN</td>\n    </tr>\n    <tr>\n      <td>2019/03</td>\n      <td>1.90</td>\n      <td>0.40</td>\n      <td>45.50</td>\n      <td>37</td>\n      <td>15.43</td>\n      <td>2.74</td>\n      <td>12.69</td>\n      <td>NaN</td>\n      <td>NaN</td>\n      <td>NaN</td>\n    </tr>\n    <tr>\n      <td>2019/04</td>\n      <td>2.20</td>\n      <td>0.41</td>\n      <td>41.70</td>\n      <td>36</td>\n      <td>16.25</td>\n      <td>2.82</td>\n      <td>13.43</td>\n      <td>NaN</td>\n      <td>NaN</td>\n      <td>NaN</td>\n    </tr>\n    <tr>\n      <td>2019/05</td>\n      <td>1.70</td>\n      <td>0.32</td>\n      <td>42.40</td>\n      <td>32</td>\n      <td>13.75</td>\n      <td>2.45</td>\n      <td>11.30</td>\n      <td>NaN</td>\n      <td>NaN</td>\n      <td>NaN</td>\n    </tr>\n    <tr>\n      <td>2019/06</td>\n      <td>1.90</td>\n      <td>0.35</td>\n      <td>27.30</td>\n      <td>25</td>\n      <td>17.71</td>\n      <td>3.91</td>\n      <td>13.81</td>\n      <td>NaN</td>\n      <td>NaN</td>\n      <td>NaN</td>\n    </tr>\n    <tr>\n      <td>2019/07</td>\n      <td>2.10</td>\n      <td>0.28</td>\n      <td>23.80</td>\n      <td>22</td>\n      <td>13.93</td>\n      <td>2.87</td>\n      <td>11.06</td>\n      <td>NaN</td>\n      <td>NaN</td>\n      <td>NaN</td>\n    </tr>\n    <tr>\n      <td>2019/08</td>\n      <td>2</td>\n      <td>0.21</td>\n      <td>24.70</td>\n      <td>17</td>\n      <td>10.05</td>\n      <td>2.33</td>\n      <td>7.73</td>\n      <td>NaN</td>\n      <td>NaN</td>\n      <td>NaN</td>\n    </tr>\n    <tr>\n      <td>2019/09</td>\n      <td>2</td>\n      <td>0.25</td>\n      <td>28.70</td>\n      <td>18</td>\n      <td>11.12</td>\n      <td>2.66</td>\n      <td>8.46</td>\n      <td>NaN</td>\n      <td>NaN</td>\n      <td>NaN</td>\n    </tr>\n    <tr>\n      <td>2019/10</td>\n      <td>1.90</td>\n      <td>0.28</td>\n      <td>46.40</td>\n      <td>29</td>\n      <td>10.04</td>\n      <td>2.17</td>\n      <td>7.88</td>\n      <td>NaN</td>\n      <td>NaN</td>\n      <td>NaN</td>\n    </tr>\n    <tr>\n      <td>2019/11</td>\n      <td>1.80</td>\n      <td>0.25</td>\n      <td>42.80</td>\n      <td>26</td>\n      <td>9.61</td>\n      <td>2.22</td>\n      <td>7.39</td>\n      <td>NaN</td>\n      <td>NaN</td>\n      <td>NaN</td>\n    </tr>\n    <tr>\n      <td>2019/12</td>\n      <td>1.90</td>\n      <td>0.37</td>\n      <td>32.10</td>\n      <td>21</td>\n      <td>17.06</td>\n      <td>4.77</td>\n      <td>12.29</td>\n      <td>無此測項</td>\n      <td>無此測項</td>\n      <td>無此測項</td>\n    </tr>\n  </tbody>\n</table>\n</div>"
     },
     "metadata": {},
     "execution_count": 4
    }
   ],
   "metadata": {},
   "execution_count": 4
  },
  {
   "cell_type": "code",
   "execution_count": null,
   "metadata": {},
   "outputs": [],
   "source": []
  },
  {
   "cell_type": "code",
   "execution_count": null,
   "metadata": {},
   "outputs": [],
   "source": []
  }
 ],
 "metadata": {
  "kernelspec": {
   "display_name": "Python 3",
   "language": "python",
   "name": "python3"
  },
  "language_info": {
   "codemirror_mode": {
    "name": "ipython",
    "version": 3
   },
   "file_extension": ".py",
   "mimetype": "text/x-python",
   "name": "python",
   "nbconvert_exporter": "python",
   "pygments_lexer": "ipython3",
   "version": "3.7.3-final"
  }
 },
 "nbformat": 4,
 "nbformat_minor": 2
}