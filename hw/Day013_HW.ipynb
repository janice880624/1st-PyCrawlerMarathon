{
 "cells": [
  {
   "cell_type": "markdown",
   "metadata": {},
   "source": [
    "# PTT 網路爬蟲實作練習\n",
    "\n",
    "\n",
    "* 能夠利用 Request + BeatifulSour 撰寫爬蟲，並存放到合適的資料結構\n"
   ]
  },
  {
   "cell_type": "markdown",
   "metadata": {},
   "source": [
    "## 作業目標\n",
    "\n",
    "根據範例 ，完成以下問題：\n",
    "\n",
    "* ① 印出最新文章的「作者」「標題」「時間」\n",
    "* ② 印出第一頁所有文章的「作者」「標題」「時間」\n"
   ]
  },
  {
   "cell_type": "markdown",
   "metadata": {},
   "source": [
    "### ① 印出最新文章的「作者」「標題」「時間」"
   ]
  },
  {
   "cell_type": "code",
   "execution_count": 9,
   "metadata": {},
   "outputs": [],
   "source": [
    "import requests\n",
    "from bs4 import BeautifulSoup\n",
    "\n",
    "url = 'https://www.ptt.cc/bbs/Stock/index.html'\n",
    "r = requests.get(url)\n",
    "\n",
    "soup = BeautifulSoup(r.text, \"html5lib\")"
   ]
  },
  {
   "cell_type": "code",
   "execution_count": 12,
   "metadata": {},
   "outputs": [
    {
     "name": "stdout",
     "output_type": "stream",
     "text": "標題：  Fw: [新聞] 陳冲：貿易出超大不是政績 是愚蠢的事\n作者：  Zoanthropy\n時間：   1/12\n標題：  (已被eyespot刪除) <D600dust> 4-2-3\n作者：  -\n時間：   1/12\n標題：  [公告] D600dust Hacendado zxc85918zxc 警告一次\n作者：  eyespot\n時間：   1/12\n標題：  [公告] Ustandup xo7796 villagermess 警告一次\n作者：  eyespot\n時間：   1/12\n標題：  [公告] teeo meblessme nets1976 delphil警告一次\n作者：  eyespot\n時間：   1/12\n標題：  [公告] diamonder spirit119 inxs 警告一次\n作者：  eyespot\n時間：   1/12\n標題：  [公告] Maxwell3 水桶一週\n作者：  eyespot\n時間：   1/12\n標題：  [公告] wegoliving samarium jamie123 警告一次\n作者：  eyespot\n時間：   1/12\n標題：  [新聞] 台股有望上演「謝票行情」 法人：注意這\n作者：  charles0939\n時間：   1/12\n標題：  [公告] MRFROG Lex4193 水桶一個月\n作者：  eyespot\n時間：   1/12\n標題：  [公告] sixmochida 警告一次\n作者：  eyespot\n時間：   1/12\n標題：  [公告] ojasono LinBaoYan 警告一次\n作者：  eyespot\n時間：   1/12\n標題：  [公告] kimibear 警告一次\n作者：  eyespot\n時間：   1/12\n標題：  Re: [標的] 2368金像電\n作者：  weekend88123\n時間：   1/12\n標題：  [公告] 精華區導覽Q&A\n作者：  IanLi\n時間：   1/25\n標題：  [公告] Stock 板規V2.6             (2019/06/20)\n作者：  eyespot\n時間：  11/03\n標題：  [公告] 大選閒聊文\n作者：  eyespot\n時間：   1/11\n"
    }
   ],
   "source": [
    "# 方法一：只從首頁\n",
    "for d in soup.find_all(class_=\"r-ent\"):\n",
    "    print('標題： ', d.find(class_='title').text.replace('\\t', '').replace('\\n', ''))\n",
    "    print('作者： ', d.find(class_='author').text.replace('\\t', '').replace('\\n', ''))\n",
    "    print('時間： ', d.find(class_='date').text.replace('\\t', '').replace('\\n', ''))"
   ]
  },
  {
   "cell_type": "code",
   "execution_count": 22,
   "metadata": {},
   "outputs": [
    {
     "name": "stdout",
     "output_type": "stream",
     "text": "標題：  [情報] Line Taxi50元乘車序號\n作者： ilovebunnies (bunny)\n時間： Fri Jan 10 15:28:24 2020\n標題：  [情報] 家樂福消費9折 & 錢包綁聯名卡優惠\n作者： voyagesam (Samantha)\n時間： Fri Jan 10 16:23:38 2020\n標題：  [情報] 蝦皮年貨節99免運(今日)\n作者： Drummer14 (血族女妖)\n時間： Fri Jan 10 17:21:10 2020\n標題：  [情報] 東南旅遊500元折價券\n作者： kghen (西瓜太郎)\n時間： Fri Jan 10 18:03:05 2020\n標題：  [情報] 共享行動電源 限時免費\n作者： Wechael (Wechael)\n時間： Fri Jan 10 18:48:17 2020\n標題：  [情報] 淘寶中國 天貓全球店回血券-300\n作者： sezna (sezna)\n時間： Fri Jan 10 19:43:31 2020\n標題：  Re: [情報] Richart汪神駕到 集點拿點數\n作者： appletvlove (我愛蘋果)\n時間： Fri Jan 10 20:20:32 2020\n標題：  [公告] 水桶名單 1-2 1-5 1-9\n作者： medama ( )\n時間： Fri Jan 10 23:10:55 2020\n標題：  [情報] 1/12 前 foodpanda 訂早餐送雞精\n作者： ayaniji (￣▽￣b)\n時間： Sat Jan 11 06:51:36 2020\n標題：  [情報] Wemo騎乘金$10\n作者： heypostcard (嗨postcard)\n時間： Sat Jan 11 10:41:45 2020\n標題：  [情報] Klook飲料買一送一加碼\n作者： abc99952000 (ㄎㄎ)\n時間： Sat Jan 11 12:22:25 2020\n標題：  [新聞] 迎戰「111」 亞太電信推11元快閃資費\n作者： peterlin495 (專業果粉O'_'O)\n時間： Sat Jan 11 14:01:35 2020\n標題：  [情報] 丹堤咖啡1/11大杯飲品買一送一\n作者： talunhsu (Lancer)\n時間： Sat Jan 11 15:54:57 2020\n標題：  Re: [情報] 屈臣氏LINE導購4.5%+滿額88折\n作者： annazoo (安娜動物園)\n時間： Sat Jan 11 18:03:28 2020\n標題：  [情報] 艾瑪絲(AROMASE)折價券序號\n作者： skyscrape (skyfly)\n時間： Sat Jan 11 22:11:21 2020\n標題：  [情報] 家樂福line導購 5%回饋\n作者： charles0939 (charles0939)\n時間： Sun Jan 12 13:14:17 2020\n標題：  [公告] 省錢板板規 2018.11.12\n作者： kadasaki (Ｋ～)\n時間： Mon Jun 11 18:15:16 2018\n標題：  [公告] 違規檢舉區\n作者： medama ( )\n時間： Thu Dec 19 22:54:37 2019\n標題：  [公告] 未滿1元之集點資訊 請集中在本篇推文 \n作者： medama ( )\n時間： Thu Jan  9 14:11:58 2020\n"
    }
   ],
   "source": [
    "# 方法二：進入內頁抓\n",
    "for d in soup.find_all(class_=\"title\"):\n",
    "    try:\n",
    "        print('標題： ', d.text.replace('\\t', '').replace('\\n', ''))\n",
    "        r = BeautifulSoup(requests.get('https://www.ptt.cc'+d.find('a')['href']).text, \"html5lib\")\n",
    "        print('作者： ' + r.find(class_='article-meta-value').text)\n",
    "        print('時間： ' + r.find_all(class_='article-meta-value')[-1].text)\n",
    "    except:\n",
    "        continue"
   ]
  },
  {
   "cell_type": "markdown",
   "metadata": {},
   "source": [
    "### ② 印出第一頁所有文章的「作者」「標題」「時間」"
   ]
  },
  {
   "cell_type": "code",
   "execution_count": 24,
   "metadata": {},
   "outputs": [
    {
     "data": {
      "text/plain": "{'標題': '[公告] 未滿1元之集點資訊 請集中在本篇推文 ',\n '作者': 'medama ( )',\n '時間': 'Thu Jan  9 14:11:58 2020'}"
     },
     "execution_count": 24,
     "metadata": {},
     "output_type": "execute_result"
    }
   ],
   "source": [
    "# 因為原始的資料難以判斷「新/舊」，因此我們必須進入內頁抓取詳細的時間，最終存成 List of Dict 的形式再自行排序。\n",
    "\n",
    "posts = []\n",
    "\n",
    "for d in soup.find_all(class_=\"title\"):\n",
    "    try:\n",
    "        post = {}\n",
    "        post['標題'] = d.text.replace('\\t', '').replace('\\n', '')\n",
    "        \n",
    "        r = BeautifulSoup(requests.get('https://www.ptt.cc'+d.find('a')['href']).text, \"html5lib\")\n",
    "        post['作者'] = r.find(class_='article-meta-value').text\n",
    "        post['時間'] = r.find_all(class_='article-meta-value')[-1].text\n",
    "        \n",
    "        posts.append(post)\n",
    "    except:\n",
    "        continue\n",
    "        \n",
    "posts = sorted(posts, key= lambda x: x['時間'])\n",
    "# 補充：Lis of Dict 的排序方法\n",
    "# https://stackoverflow.com/questions/72899/how-do-i-sort-a-list-of-dictionaries-by-a-value-of-the-dictionary\n",
    "posts[-1]"
   ]
  },
  {
   "cell_type": "markdown",
   "metadata": {},
   "source": [
    "### ③ 試著爬爬看其他版的文章"
   ]
  },
  {
   "cell_type": "code",
   "execution_count": 17,
   "metadata": {},
   "outputs": [
    {
     "data": {
      "text/plain": "{'標題': '[情報] 家樂福消費9折 & 錢包綁聯名卡優惠',\n '作者': 'voyagesam (Samantha)',\n '時間': 'Fri Jan 10 16:23:38 2020'}"
     },
     "execution_count": 17,
     "metadata": {},
     "output_type": "execute_result"
    }
   ],
   "source": [
    "# 改成 Lifeismoney 版，抓出最新一筆的文章\n",
    "\n",
    "import requests\n",
    "from bs4 import BeautifulSoup\n",
    "\n",
    "url = 'https://www.ptt.cc/bbs/Lifeismoney/index.html'\n",
    "r = requests.get(url)\n",
    "\n",
    "soup = BeautifulSoup(r.text, \"html5lib\")\n",
    "\n",
    "posts = []\n",
    "\n",
    "for d in soup.find_all(class_=\"title\"):\n",
    "    try:\n",
    "        post = {}\n",
    "        post['標題'] = d.text.replace('\\t', '').replace('\\n', '')\n",
    "        \n",
    "        r = BeautifulSoup(requests.get('https://www.ptt.cc'+d.find('a')['href']).text, \"html5lib\")\n",
    "        post['作者'] = r.find(class_='article-meta-value').text\n",
    "        post['時間'] = r.find_all(class_='article-meta-value')[-1].text\n",
    "        \n",
    "        posts.append(post)\n",
    "    except:\n",
    "        continue\n",
    "        \n",
    "posts = sorted(posts, key= lambda x: x['時間'])\n",
    "posts[1]"
   ]
  },
  {
   "cell_type": "code",
   "execution_count": 26,
   "metadata": {},
   "outputs": [
    {
     "data": {
      "text/plain": "{'標題': 'Re: [討論] 請問一下現在大學生起薪行情？',\n '作者': 'cplusplus426 (c++)',\n '時間': 'Sat Jan 11 11:20:41 2020'}"
     },
     "execution_count": 26,
     "metadata": {},
     "output_type": "execute_result"
    }
   ],
   "source": [
    "# 改成 Salary 版，抓出最新一筆的文章\n",
    "\n",
    "import requests\n",
    "from bs4 import BeautifulSoup\n",
    "\n",
    "url = 'https://www.ptt.cc/bbs/Salary/index.html'\n",
    "r = requests.get(url)\n",
    "\n",
    "soup = BeautifulSoup(r.text, \"html5lib\")\n",
    "\n",
    "posts = []\n",
    "\n",
    "for d in soup.find_all(class_=\"title\"):\n",
    "    try:\n",
    "        post = {}\n",
    "        post['標題'] = d.text.replace('\\t', '').replace('\\n', '')\n",
    "        \n",
    "        r = BeautifulSoup(requests.get('https://www.ptt.cc'+d.find('a')['href']).text, \"html5lib\")\n",
    "        post['作者'] = r.find(class_='article-meta-value').text\n",
    "        post['時間'] = r.find_all(class_='article-meta-value')[-1].text\n",
    "        \n",
    "        posts.append(post)\n",
    "    except:\n",
    "        continue\n",
    "        \n",
    "posts = sorted(posts, key= lambda x: x['時間'])\n",
    "posts[1]"
   ]
  },
  {
   "cell_type": "code",
   "execution_count": 29,
   "metadata": {},
   "outputs": [
    {
     "data": {
      "text/plain": "{'標題': '[問機] 10k內 7吋左右長輩機',\n '作者': 'jf6203 (Hinder)',\n '時間': 'Sat Jan 11 22:26:13 2020'}"
     },
     "execution_count": 29,
     "metadata": {},
     "output_type": "execute_result"
    }
   ],
   "source": [
    "# 改成 MobileComm 版，抓出最新一筆的文章\n",
    "\n",
    "import requests\n",
    "from bs4 import BeautifulSoup\n",
    "\n",
    "url = 'https://www.ptt.cc/bbs/MobileComm/index.html'\n",
    "r = requests.get(url)\n",
    "\n",
    "soup = BeautifulSoup(r.text, \"html5lib\")\n",
    "\n",
    "posts = []\n",
    "\n",
    "for d in soup.find_all(class_=\"title\"):\n",
    "    try:\n",
    "        post = {}\n",
    "        post['標題'] = d.text.replace('\\t', '').replace('\\n', '')\n",
    "        \n",
    "        r = BeautifulSoup(requests.get('https://www.ptt.cc'+d.find('a')['href']).text, \"html5lib\")\n",
    "        post['作者'] = r.find(class_='article-meta-value').text\n",
    "        post['時間'] = r.find_all(class_='article-meta-value')[-1].text\n",
    "        \n",
    "        posts.append(post)\n",
    "    except:\n",
    "        continue\n",
    "        \n",
    "posts = sorted(posts, key= lambda x: x['時間'])\n",
    "posts[1]"
   ]
  },
  {
   "cell_type": "code",
   "execution_count": null,
   "metadata": {},
   "outputs": [],
   "source": []
  }
 ],
 "metadata": {
  "kernelspec": {
   "display_name": "Python 3",
   "language": "python",
   "name": "python3"
  },
  "language_info": {
   "codemirror_mode": {
    "name": "ipython",
    "version": 3
   },
   "file_extension": ".py",
   "mimetype": "text/x-python",
   "name": "python",
   "nbconvert_exporter": "python",
   "pygments_lexer": "ipython3",
   "version": "3.7.5-final"
  }
 },
 "nbformat": 4,
 "nbformat_minor": 2
}