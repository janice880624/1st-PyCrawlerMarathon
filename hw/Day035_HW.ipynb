{
  "nbformat": 4,
  "nbformat_minor": 0,
  "metadata": {
    "colab": {
      "name": "Day035_HW.ipynb",
      "provenance": []
    },
    "kernelspec": {
      "name": "python3",
      "display_name": "Python 3"
    }
  },
  "cells": [
    {
      "cell_type": "code",
      "metadata": {
        "id": "AbVyIQ_gW-Hx",
        "colab_type": "code",
        "colab": {
          "base_uri": "https://localhost:8080/",
          "height": 33
        },
        "outputId": "06d66d1e-b57c-4c41-e0c9-5ec0582e6e28"
      },
      "source": [
        "import _thread\n",
        "import time\n",
        "\n",
        "def print_time( threadName, data, delay):\n",
        "    for d in data:\n",
        "        time.sleep(delay)\n",
        "        print(threadName, ' => ', d)\n",
        "\n",
        "_thread.start_new_thread( print_time, (\"Thread-1\", range(0, 5, 2), 2, ) )\n",
        "_thread.start_new_thread( print_time, (\"Thread-2\", range(1, 5, 2), 5, ) )"
      ],
      "execution_count": 1,
      "outputs": [
        {
          "output_type": "execute_result",
          "data": {
            "text/plain": [
              "140120446887680"
            ]
          },
          "metadata": {
            "tags": []
          },
          "execution_count": 1
        }
      ]
    },
    {
      "cell_type": "code",
      "metadata": {
        "id": "ygYqymjIXBLC",
        "colab_type": "code",
        "colab": {
          "base_uri": "https://localhost:8080/",
          "height": 33
        },
        "outputId": "8953dab9-c4ee-4a10-9135-fd56910aaa2d"
      },
      "source": [
        "import requests\n",
        "import time\n",
        "\n",
        "urls = ['http://python.org', 'http://python.org', 'http://python.org',\n",
        "        'http://python.org', 'http://python.org']\n",
        "\n",
        "startTime = time.time()\n",
        "\n",
        "for url in urls:\n",
        "    requests.get(url)\n",
        "\n",
        "finishTime = time.time()\n",
        "print(finishTime - startTime) # 正常情況的爬蟲所需時間"
      ],
      "execution_count": 2,
      "outputs": [
        {
          "output_type": "stream",
          "text": [
            "1.1106700897216797\n"
          ],
          "name": "stdout"
        }
      ]
    },
    {
      "cell_type": "code",
      "metadata": {
        "id": "cYBitEchXGk7",
        "colab_type": "code",
        "colab": {
          "base_uri": "https://localhost:8080/",
          "height": 33
        },
        "outputId": "b1caa047-8fac-4bef-8a9e-b57c553d2078"
      },
      "source": [
        "import requests\n",
        "import _thread\n",
        "import time\n",
        "\n",
        "urls = ['http://python.org', 'http://python.org', 'http://python.org',\n",
        "        'http://python.org', 'http://python.org']\n",
        "\n",
        "startTime = time.time()\n",
        "\n",
        "for url in urls:\n",
        "    _thread.start_new_thread( requests.get, (url, ) )\n",
        "\n",
        "finishTime = time.time()\n",
        "print(finishTime - startTime) # 利用 thread 的爬蟲所需時間"
      ],
      "execution_count": 3,
      "outputs": [
        {
          "output_type": "stream",
          "text": [
            "0.0002918243408203125\n"
          ],
          "name": "stdout"
        }
      ]
    },
    {
      "cell_type": "code",
      "metadata": {
        "id": "xsncfrGzXJNO",
        "colab_type": "code",
        "colab": {}
      },
      "source": [
        "urls = ['https://www.dcard.tw/f', 'https://www.dcard.tw/f', 'https://www.dcard.tw/f', 'https://www.dcard.tw/f']"
      ],
      "execution_count": 0,
      "outputs": []
    },
    {
      "cell_type": "code",
      "metadata": {
        "id": "iYhgUWlnXTD6",
        "colab_type": "code",
        "colab": {
          "base_uri": "https://localhost:8080/",
          "height": 33
        },
        "outputId": "231636f0-1994-4272-a5e3-583959f5bb71"
      },
      "source": [
        "startTime = time.time()\n",
        "\n",
        "for url in urls:\n",
        "    requests.get(url)\n",
        "\n",
        "finishTime = time.time()\n",
        "print(finishTime - startTime) # 利用 thread 的爬蟲所需時間"
      ],
      "execution_count": 5,
      "outputs": [
        {
          "output_type": "stream",
          "text": [
            "0.5042879581451416\n"
          ],
          "name": "stdout"
        }
      ]
    },
    {
      "cell_type": "code",
      "metadata": {
        "id": "jQ2MvGS0XVHx",
        "colab_type": "code",
        "colab": {
          "base_uri": "https://localhost:8080/",
          "height": 33
        },
        "outputId": "71c2bb9c-886c-4c43-c728-ebc4c9c30bbd"
      },
      "source": [
        "import requests\n",
        "import _thread\n",
        "import time\n",
        "\n",
        "startTime = time.time()\n",
        "\n",
        "for url in urls:\n",
        "    _thread.start_new_thread(requests.get, (url, ))\n",
        "\n",
        "finishTime = time.time()\n",
        "print(finishTime - startTime) # 利用 thread 的爬蟲所需時間"
      ],
      "execution_count": 6,
      "outputs": [
        {
          "output_type": "stream",
          "text": [
            "0.00019431114196777344\n"
          ],
          "name": "stdout"
        }
      ]
    },
    {
      "cell_type": "code",
      "metadata": {
        "id": "1A9wWlhvXXZe",
        "colab_type": "code",
        "colab": {}
      },
      "source": [
        ""
      ],
      "execution_count": 0,
      "outputs": []
    }
  ]
}